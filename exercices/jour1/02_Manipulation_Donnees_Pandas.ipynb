{
 "cells": [
  {
   "cell_type": "markdown",
   "metadata": {},
   "source": [
    "# Jour 1 - Exercice 2 : Manipulation de données avec Pandas\n",
    "\n",
    "## Objectifs\n",
    "- Approfondir la manipulation de données avec Pandas\n",
    "- Apprendre à sélectionner, filtrer et transformer des données\n",
    "- Traiter les valeurs manquantes\n",
    "- Créer de nouvelles colonnes\n",
    "- Réaliser une analyse exploratoire simple\n",
    "\n",
    "## Introduction\n",
    "\n",
    "Dans ce notebook, nous allons approfondir l'utilisation de Pandas pour manipuler des données. Nous utiliserons le jeu de données de satisfaction des passagers d'une compagnie aérienne pour mettre en pratique ces concepts."
   ]
  },
  {
   "cell_type": "markdown",
   "metadata": {},
   "source": [
    "## 1. Chargement et exploration initiale des données\n",
    "\n",
    "Commençons par importer les bibliothèques nécessaires et charger notre jeu de données."
   ]
  },
  {
   "cell_type": "code",
   "execution_count": 1,
   "metadata": {},
   "outputs": [],
   "source": [
    "# Importation des bibliothèques\n",
    "import pandas as pd\n",
    "import numpy as np\n",
    "import plotly.express as px\n",
    "import plotly.graph_objects as go\n",
    "\n",
    "# Pour afficher plus de colonnes dans les DataFrames\n",
    "pd.set_option('display.max_columns', 30)"
   ]
  },
  {
   "cell_type": "code",
   "execution_count": null,
   "metadata": {},
   "outputs": [],
   "source": [
    "# Chargement du jeu de données\n",
    "df = pd.read_csv('../../data/passenger_satisfaction/train.csv')\n",
    "\n",
    "# Affichage des premières lignes\n",
    "df.head()"
   ]
  },
  {
   "cell_type": "markdown",
   "metadata": {},
   "source": [
    "Examinons les informations générales sur notre jeu de données :"
   ]
  },
  {
   "cell_type": "code",
   "execution_count": null,
   "metadata": {},
   "outputs": [],
   "source": [
    "# Informations sur le DataFrame\n",
    "df.info()"
   ]
  },
  {
   "cell_type": "code",
   "execution_count": null,
   "metadata": {},
   "outputs": [],
   "source": [
    "# Statistiques descriptives\n",
    "df.describe()"
   ]
  },
  {
   "cell_type": "markdown",
   "metadata": {},
   "source": [
    "Vérifions les valeurs uniques dans certaines colonnes catégorielles :"
   ]
  },
  {
   "cell_type": "code",
   "execution_count": null,
   "metadata": {},
   "outputs": [],
   "source": [
    "# Valeurs uniques pour la satisfaction\n",
    "print(\"Valeurs uniques pour 'satisfaction' :\")\n",
    "print(df['Satisfaction'].value_counts())\n",
    "print(\"\\nValeurs uniques pour 'Customer Type' :\")\n",
    "print(df['Customer Type'].value_counts())\n",
    "print(\"\\nValeurs uniques pour 'Type of Travel' :\")\n",
    "print(df['Type of Travel'].value_counts())\n",
    "print(\"\\nValeurs uniques pour 'Class' :\")\n",
    "print(df['Class'].value_counts())"
   ]
  },
  {
   "cell_type": "markdown",
   "metadata": {},
   "source": [
    "## 2. Sélection de données\n",
    "\n",
    "Pandas offre plusieurs façons de sélectionner des données dans un DataFrame. Voyons les principales méthodes :"
   ]
  },
  {
   "cell_type": "markdown",
   "metadata": {},
   "source": [
    "### 2.1 Sélection de colonnes"
   ]
  },
  {
   "cell_type": "code",
   "execution_count": null,
   "metadata": {},
   "outputs": [],
   "source": [
    "# Sélection d'une seule colonne (renvoie une Series)\n",
    "age = df['Age']\n",
    "print(type(age))\n",
    "print(age.head())\n",
    "\n",
    "# Sélection de plusieurs colonnes (renvoie un DataFrame)\n",
    "demographics = df[['Age', 'Gender', 'Customer Type', 'Type of Travel']]\n",
    "demographics.head()"
   ]
  },
  {
   "cell_type": "markdown",
   "metadata": {},
   "source": [
    "### 2.2 Sélection de lignes par position"
   ]
  },
  {
   "cell_type": "code",
   "execution_count": null,
   "metadata": {},
   "outputs": [],
   "source": [
    "# Sélection des 5 premières lignes avec iloc\n",
    "# iloc permet de sélectionner par position (index numérique)\n",
    "df.iloc[0:5]"
   ]
  },
  {
   "cell_type": "code",
   "execution_count": null,
   "metadata": {},
   "outputs": [],
   "source": [
    "# Sélection de lignes et colonnes spécifiques avec iloc\n",
    "# Syntaxe: df.iloc[lignes, colonnes]\n",
    "# Sélectionnons les lignes 10 à 15 et les colonnes 2, 3 et 4\n",
    "df.iloc[10:15, 2:5]"
   ]
  },
  {
   "cell_type": "markdown",
   "metadata": {},
   "source": [
    "### 2.3 Sélection de lignes par label"
   ]
  },
  {
   "cell_type": "code",
   "execution_count": null,
   "metadata": {},
   "outputs": [],
   "source": [
    "# Vérifions d'abord l'index de notre DataFrame\n",
    "print(\"Type d'index :\", type(df.index))\n",
    "print(\"Valeurs d'index :\", df.index[:10])"
   ]
  },
  {
   "cell_type": "code",
   "execution_count": null,
   "metadata": {},
   "outputs": [],
   "source": [
    "# Utilisation de loc pour sélectionner par label\n",
    "# Comme notre index est numérique, cela ressemble à iloc, mais le comportement est différent\n",
    "df.loc[10:15, ['Age', 'Gender', 'Customer Type']]"
   ]
  },
  {
   "cell_type": "markdown",
   "metadata": {},
   "source": [
    "## 3. Filtrage de données\n",
    "\n",
    "Le filtrage permet de sélectionner des sous-ensembles de données qui répondent à certaines conditions."
   ]
  },
  {
   "cell_type": "markdown",
   "metadata": {},
   "source": [
    "### 3.1 Filtrage avec une condition simple"
   ]
  },
  {
   "cell_type": "code",
   "execution_count": null,
   "metadata": {},
   "outputs": [],
   "source": [
    "# Sélection des passagers satisfaits\n",
    "satisfied = df[df['Satisfaction'] == 'satisfied']\n",
    "print(f\"Nombre de passagers satisfaits : {len(satisfied)}\")\n",
    "satisfied.head()"
   ]
  },
  {
   "cell_type": "code",
   "execution_count": null,
   "metadata": {},
   "outputs": [],
   "source": [
    "# Sélection des passagers de plus de 60 ans\n",
    "seniors = df[df['Age'] > 60]\n",
    "print(f\"Nombre de passagers seniors : {len(seniors)}\")\n",
    "seniors.head()"
   ]
  },
  {
   "cell_type": "markdown",
   "metadata": {},
   "source": [
    "### 3.2 Filtrage avec des conditions multiples"
   ]
  },
  {
   "cell_type": "code",
   "execution_count": null,
   "metadata": {},
   "outputs": [],
   "source": [
    "# Opérateurs logiques en Python pour combiner des conditions:\n",
    "# & (ET), | (OU), ~ (NON)\n",
    "\n",
    "# Sélection des femmes voyageant en classe affaires\n",
    "business_women = df[(df['Gender'] == 'Female') & (df['Class'] == 'Business')]\n",
    "print(f\"Nombre de femmes en classe affaires : {len(business_women)}\")\n",
    "business_women.head()"
   ]
  },
  {
   "cell_type": "code",
   "execution_count": null,
   "metadata": {},
   "outputs": [],
   "source": [
    "# Sélection des passagers très jeunes ou très âgés\n",
    "young_or_old = df[(df['Age'] < 18) | (df['Age'] > 70)]\n",
    "print(f\"Nombre de passagers très jeunes ou très âgés : {len(young_or_old)}\")\n",
    "young_or_old.head()"
   ]
  },
  {
   "cell_type": "markdown",
   "metadata": {},
   "source": [
    "### 3.3 Filtrage avec des méthodes spéciales"
   ]
  },
  {
   "cell_type": "code",
   "execution_count": null,
   "metadata": {},
   "outputs": [],
   "source": [
    "# Utilisation de .isin() pour filtrer sur plusieurs valeurs possibles\n",
    "eco_plus_business = df[df['Class'].isin(['Eco Plus', 'Business'])]\n",
    "print(f\"Nombre de passagers en Eco Plus ou Business : {len(eco_plus_business)}\")\n",
    "eco_plus_business.head()"
   ]
  },
  {
   "cell_type": "code",
   "execution_count": null,
   "metadata": {},
   "outputs": [],
   "source": [
    "# Utilisation de .between() pour filtrer sur un intervalle\n",
    "middle_aged = df[df['Age'].between(30, 50)]\n",
    "print(f\"Nombre de passagers entre 30 et 50 ans : {len(middle_aged)}\")\n",
    "middle_aged.head()"
   ]
  },
  {
   "cell_type": "markdown",
   "metadata": {},
   "source": [
    "## 4. Traitement des valeurs manquantes\n",
    "\n",
    "Les valeurs manquantes sont courantes dans les jeux de données réels. Pandas les représente généralement par `NaN` (Not a Number)."
   ]
  },
  {
   "cell_type": "code",
   "execution_count": null,
   "metadata": {},
   "outputs": [],
   "source": [
    "# Vérification des valeurs manquantes dans chaque colonne\n",
    "missing_values = df.isnull().sum()\n",
    "print(\"Nombre de valeurs manquantes par colonne :\")\n",
    "print(missing_values[missing_values > 0])"
   ]
  },
  {
   "cell_type": "markdown",
   "metadata": {},
   "source": [
    "### 4.1 Suppression des valeurs manquantes"
   ]
  },
  {
   "cell_type": "code",
   "execution_count": null,
   "metadata": {},
   "outputs": [],
   "source": [
    "# Suppression des lignes avec des valeurs manquantes\n",
    "df_cleaned = df.dropna()\n",
    "print(f\"Taille originale du DataFrame : {len(df)}\")\n",
    "print(f\"Taille après suppression des valeurs manquantes : {len(df_cleaned)}\")"
   ]
  },
  {
   "cell_type": "markdown",
   "metadata": {},
   "source": [
    "### 4.2 Remplacement des valeurs manquantes"
   ]
  },
  {
   "cell_type": "code",
   "execution_count": null,
   "metadata": {},
   "outputs": [],
   "source": [
    "# Création d'une copie du DataFrame pour ne pas modifier l'original\n",
    "df_filled = df.copy()\n",
    "\n",
    "# Remplacement des valeurs manquantes numériques par la moyenne\n",
    "for col in ['Age', 'Flight Distance', 'Departure Delay in Minutes', 'Arrival Delay in Minutes']:\n",
    "    if df_filled[col].isnull().sum() > 0:\n",
    "        mean_value = df_filled[col].mean()\n",
    "        df_filled[col] = df_filled[col].fillna(mean_value)\n",
    "\n",
    "# Vérification\n",
    "print(\"Valeurs manquantes après remplacement :\")\n",
    "print(df_filled.isnull().sum()[df_filled.isnull().sum() > 0])"
   ]
  },
  {
   "cell_type": "markdown",
   "metadata": {},
   "source": [
    "## 5. Création de nouvelles colonnes\n",
    "\n",
    "La création de nouvelles colonnes (feature engineering) est une étape importante dans l'analyse de données."
   ]
  },
  {
   "cell_type": "code",
   "execution_count": null,
   "metadata": {},
   "outputs": [],
   "source": [
    "# Création d'une colonne pour la catégorie d'âge\n",
    "df['Age_Category'] = pd.cut(df['Age'], \n",
    "                           bins=[0, 18, 35, 50, 65, 100], \n",
    "                           labels=['Enfant', 'Jeune adulte', 'Adulte', 'Senior', 'Aîné'])\n",
    "\n",
    "# Affichage des résultats\n",
    "df[['Age', 'Age_Category']].head(10)"
   ]
  },
  {
   "cell_type": "code",
   "execution_count": null,
   "metadata": {},
   "outputs": [],
   "source": [
    "# Création d'une colonne pour indiquer si le vol a été retardé\n",
    "df['Flight_Delayed'] = df['Departure Delay in Minutes'] > 0\n",
    "\n",
    "# Affichage des résultats\n",
    "df[['Departure Delay in Minutes', 'Flight_Delayed']].head(10)"
   ]
  },
  {
   "cell_type": "code",
   "execution_count": null,
   "metadata": {},
   "outputs": [],
   "source": [
    "# Création d'une colonne pour le score moyen de satisfaction (sur les services évalués)\n",
    "# Identifions d'abord les colonnes qui contiennent des évaluations\n",
    "rating_columns = [\n",
    "    'Inflight wifi service', 'Departure/Arrival time convenient',\n",
    "    'Ease of Online booking', 'Gate location', 'Food and drink',\n",
    "    'Online boarding', 'Seat comfort', 'Inflight entertainment',\n",
    "    'On-board service', 'Leg room service', 'Baggage handling',\n",
    "    'Checkin service', 'Inflight service', 'Cleanliness'\n",
    "]\n",
    "\n",
    "# Calcul du score moyen\n",
    "df['Average_Rating'] = df[rating_columns].mean(axis=1)\n",
    "\n",
    "# Affichage des résultats\n",
    "df[['Satisfaction', 'Average_Rating']].head()"
   ]
  },
  {
   "cell_type": "markdown",
   "metadata": {},
   "source": [
    "## 6. Mini-projet : Analyse exploratoire des données de satisfaction\n",
    "\n",
    "Maintenant que nous avons appris les bases de la manipulation de données avec Pandas, réalisons une petite analyse exploratoire pour comprendre les facteurs qui influencent la satisfaction des passagers."
   ]
  },
  {
   "cell_type": "code",
   "execution_count": null,
   "metadata": {},
   "outputs": [],
   "source": [
    "# Calculons le taux de satisfaction global\n",
    "satisfaction_rate = df['Satisfaction'].value_counts(normalize=True) * 100\n",
    "print(\"Taux de satisfaction global :\")\n",
    "print(satisfaction_rate)\n",
    "\n",
    "# Visualisation avec Plotly\n",
    "fig = px.pie(\n",
    "    names=satisfaction_rate.index,\n",
    "    values=satisfaction_rate.values,\n",
    "    title='Répartition de la satisfaction des passagers',\n",
    "    color=satisfaction_rate.index,\n",
    "    color_discrete_map={'satisfied': '#2E86C1', 'neutral or dissatisfied': '#E74C3C'}\n",
    ")\n",
    "fig.update_traces(textinfo='percent+label')\n",
    "fig.update_layout(height=500, width=700)\n",
    "fig.show()"
   ]
  },
  {
   "cell_type": "code",
   "execution_count": null,
   "metadata": {},
   "outputs": [],
   "source": [
    "# Taux de satisfaction par classe\n",
    "satisfaction_by_class = pd.crosstab(df['Class'], df['Satisfaction'], normalize='index') * 100\n",
    "print(\"Taux de satisfaction par classe (%) :\")\n",
    "print(satisfaction_by_class)\n",
    "\n",
    "# Visualisation avec Plotly\n",
    "fig = px.bar(\n",
    "    satisfaction_by_class.reset_index(), \n",
    "    x='Class', \n",
    "    y='satisfied',\n",
    "    title='Taux de satisfaction par classe',\n",
    "    labels={'satisfied': 'Pourcentage de passagers satisfaits (%)', 'Class': 'Classe'},\n",
    "    color='Class',\n",
    "    color_discrete_sequence=px.colors.qualitative.Plotly\n",
    ")\n",
    "fig.update_layout(height=500, width=700)\n",
    "fig.show()"
   ]
  },
  {
   "cell_type": "code",
   "execution_count": null,
   "metadata": {},
   "outputs": [],
   "source": [
    "# Taux de satisfaction par type de client\n",
    "satisfaction_by_customer = pd.crosstab(df['Customer Type'], df['Satisfaction'], normalize='index') * 100\n",
    "print(\"Taux de satisfaction par type de client (%) :\")\n",
    "print(satisfaction_by_customer)\n",
    "\n",
    "# Visualisation avec Plotly\n",
    "fig = px.bar(\n",
    "    satisfaction_by_customer.reset_index(), \n",
    "    x='Customer Type', \n",
    "    y='satisfied',\n",
    "    title='Taux de satisfaction par type de client',\n",
    "    labels={'satisfied': 'Pourcentage de passagers satisfaits (%)', 'Customer Type': 'Type de client'},\n",
    "    color='Customer Type',\n",
    "    color_discrete_sequence=px.colors.qualitative.Plotly\n",
    ")\n",
    "fig.update_layout(height=500, width=700)\n",
    "fig.show()"
   ]
  },
  {
   "cell_type": "code",
   "execution_count": null,
   "metadata": {},
   "outputs": [],
   "source": [
    "# Analysons l'impact des retards sur la satisfaction\n",
    "satisfaction_by_delay = pd.crosstab(df['Flight_Delayed'], df['Satisfaction'], normalize='index') * 100\n",
    "print(\"Taux de satisfaction selon la présence de retard (%) :\")\n",
    "print(satisfaction_by_delay)\n",
    "\n",
    "# Préparation des données pour Plotly\n",
    "delay_df = satisfaction_by_delay.reset_index()\n",
    "delay_df['Flight_Delayed'] = delay_df['Flight_Delayed'].map({False: 'Non retardé', True: 'Retardé'})\n",
    "\n",
    "# Visualisation avec Plotly\n",
    "fig = px.bar(\n",
    "    delay_df, \n",
    "    x='Flight_Delayed', \n",
    "    y='satisfied',\n",
    "    title='Taux de satisfaction selon la présence de retard',\n",
    "    labels={'satisfied': 'Pourcentage de passagers satisfaits (%)', 'Flight_Delayed': 'Vol retardé'},\n",
    "    color='Flight_Delayed',\n",
    "    color_discrete_sequence=px.colors.qualitative.Plotly\n",
    ")\n",
    "fig.update_layout(height=500, width=700)\n",
    "fig.show()"
   ]
  },
  {
   "cell_type": "code",
   "execution_count": null,
   "metadata": {},
   "outputs": [],
   "source": [
    "# Analysons les scores moyens par service pour les passagers satisfaits et insatisfaits\n",
    "ratings_by_satisfaction = df.groupby('Satisfaction')[rating_columns].mean()\n",
    "print(\"Scores moyens par service selon la satisfaction :\")\n",
    "print(ratings_by_satisfaction)\n",
    "\n",
    "# Préparation des données pour Plotly\n",
    "ratings_df = ratings_by_satisfaction.T.reset_index()\n",
    "ratings_df = ratings_df.rename(columns={'index': 'Service'})\n",
    "ratings_df_melted = pd.melt(\n",
    "    ratings_df, \n",
    "    id_vars=['Service'], \n",
    "    value_vars=['satisfied', 'neutral or dissatisfied'],\n",
    "    var_name='Satisfaction', \n",
    "    value_name='Score moyen'\n",
    ")\n",
    "\n",
    "# Visualisation avec Plotly\n",
    "fig = px.bar(\n",
    "    ratings_df_melted, \n",
    "    x='Service', \n",
    "    y='Score moyen',\n",
    "    color='Satisfaction',\n",
    "    barmode='group',\n",
    "    title='Scores moyens par service selon la satisfaction',\n",
    "    labels={'Score moyen': 'Score moyen (0-5)', 'Service': 'Service'},\n",
    "    height=600,\n",
    "    width=900\n",
    ")\n",
    "fig.update_layout(\n",
    "    xaxis={'categoryorder':'total descending'},\n",
    "    xaxis_tickangle=-45\n",
    ")\n",
    "fig.show()"
   ]
  },
  {
   "cell_type": "markdown",
   "metadata": {},
   "source": [
    "## 7. Exercices pratiques\n",
    "\n",
    "Maintenant, c'est à vous de jouer ! Voici quelques exercices pour pratiquer la manipulation de données avec Pandas."
   ]
  },
  {
   "cell_type": "markdown",
   "metadata": {},
   "source": [
    "### Exercice 1\n",
    "Calculez l'âge moyen des passagers par classe et par genre. Affichez les résultats sous forme de tableau."
   ]
  },
  {
   "cell_type": "code",
   "execution_count": 28,
   "metadata": {},
   "outputs": [],
   "source": [
    "# Votre code ici\n"
   ]
  },
  {
   "cell_type": "markdown",
   "metadata": {},
   "source": [
    "### Exercice 2\n",
    "Créez une nouvelle colonne 'Long_Flight' qui vaut True si la distance de vol est supérieure à 1000 km, et False sinon. Puis calculez le taux de satisfaction pour les vols courts et les vols longs."
   ]
  },
  {
   "cell_type": "code",
   "execution_count": 29,
   "metadata": {},
   "outputs": [],
   "source": [
    "# Votre code ici\n"
   ]
  },
  {
   "cell_type": "markdown",
   "metadata": {},
   "source": [
    "### Exercice 3\n",
    "Identifiez les 3 services qui ont le plus grand écart de score entre les passagers satisfaits et insatisfaits. Ces services pourraient être les plus importants pour améliorer la satisfaction globale."
   ]
  },
  {
   "cell_type": "code",
   "execution_count": 30,
   "metadata": {},
   "outputs": [],
   "source": [
    "# Votre code ici\n"
   ]
  },
  {
   "cell_type": "markdown",
   "metadata": {},
   "source": [
    "## Conclusion\n",
    "\n",
    "Dans ce notebook, nous avons approfondi la manipulation de données avec Pandas en utilisant un jeu de données réel sur la satisfaction des passagers. Nous avons appris à :\n",
    "\n",
    "- Sélectionner des données avec différentes méthodes\n",
    "- Filtrer des données selon des conditions simples ou complexes\n",
    "- Traiter les valeurs manquantes\n",
    "- Créer de nouvelles colonnes pour enrichir notre analyse\n",
    "- Réaliser une analyse exploratoire simple\n",
    "\n",
    "Ces compétences sont essentielles pour préparer les données avant d'appliquer des algorithmes de machine learning, que nous aborderons dans les prochains notebooks."
   ]
  }
 ],
 "metadata": {
  "kernelspec": {
   "display_name": "bahut_ml",
   "language": "python",
   "name": "python3"
  },
  "language_info": {
   "codemirror_mode": {
    "name": "ipython",
    "version": 3
   },
   "file_extension": ".py",
   "mimetype": "text/x-python",
   "name": "python",
   "nbconvert_exporter": "python",
   "pygments_lexer": "ipython3",
   "version": "3.13.2"
  }
 },
 "nbformat": 4,
 "nbformat_minor": 4
}
