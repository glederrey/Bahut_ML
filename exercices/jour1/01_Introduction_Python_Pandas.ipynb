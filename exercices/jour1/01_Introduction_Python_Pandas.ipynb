{
    "cells": [
     {
      "cell_type": "markdown",
      "metadata": {},
      "source": [
       "# Jour 1 - Exercice 1 : Introduction à Python et Pandas\n",
       "\n",
       "## Objectifs\n",
       "- Se familiariser avec l'environnement Jupyter Notebook\n",
       "- Comprendre les bases de Python nécessaires pour l'analyse de données\n",
       "- Découvrir les structures de données fondamentales de Pandas\n",
       "- Apprendre à charger et explorer un jeu de données simple\n",
       "\n",
       "## Introduction\n",
       "\n",
       "Bienvenue dans ce premier exercice ! Avant de plonger dans le machine learning, il est essentiel de maîtriser les outils de base pour manipuler les données. Dans ce notebook, nous allons découvrir Python et la bibliothèque Pandas, qui sont les fondements de tout projet de data science."
      ]
     },
     {
      "cell_type": "markdown",
      "metadata": {},
      "source": [
       "## 1. Introduction à Jupyter Notebook\n",
       "\n",
       "Jupyter Notebook est un environnement interactif qui permet de combiner du code, du texte explicatif, des visualisations et des équations dans un seul document.\n",
       "\n",
       "### Types de cellules\n",
       "- **Cellules de code** : Pour écrire et exécuter du code Python\n",
       "- **Cellules Markdown** : Pour écrire du texte formaté (comme celle-ci)\n",
       "\n",
       "### Comment utiliser Jupyter\n",
       "- Pour exécuter une cellule : cliquez sur la cellule puis appuyez sur `Shift+Enter`\n",
       "- Pour ajouter une cellule : cliquez sur le bouton `+` dans la barre d'outils\n",
       "- Pour changer le type de cellule : utilisez le menu déroulant dans la barre d'outils\n",
       "\n",
       "Essayons d'exécuter une cellule de code simple :"
      ]
     },
     {
      "cell_type": "code",
      "execution_count": null,
      "metadata": {},
      "outputs": [],
      "source": [
       "# Ceci est un commentaire en Python (il commence par #)\n",
       "print(\"Bonjour, bienvenue au cours de Machine Learning !\")\n",
       "\n",
       "# Faisons un calcul simple\n",
       "resultat = 7 * 6\n",
       "print(f\"Le résultat de 7 × 6 est {resultat}\")"
      ]
     },
     {
      "cell_type": "markdown",
      "metadata": {},
      "source": [
       "## 2. Bases de Python pour l'analyse de données\n",
       "\n",
       "### Variables et types de données\n",
       "\n",
       "Python utilise différents types de données pour stocker différentes sortes d'informations :"
      ]
     },
     {
      "cell_type": "code",
      "execution_count": null,
      "metadata": {},
      "outputs": [],
      "source": [
       "# Nombres\n",
       "entier = 42                # Type int (entier)\n",
       "decimal = 3.14             # Type float (nombre à virgule)\n",
       "\n",
       "# Texte\n",
       "texte = \"Hello, World!\"    # Type str (chaîne de caractères)\n",
       "\n",
       "# Booléens\n",
       "vrai = True                # Type bool (booléen)\n",
       "faux = False\n",
       "\n",
       "# Affichons le type de chaque variable\n",
       "print(f\"Type de entier: {type(entier)}\")\n",
       "print(f\"Type de decimal: {type(decimal)}\")\n",
       "print(f\"Type de texte: {type(texte)}\")\n",
       "print(f\"Type de vrai: {type(vrai)}\")"
      ]
     },
     {
      "cell_type": "markdown",
      "metadata": {},
      "source": [
       "### Structures de données en Python\n",
       "\n",
       "Python offre plusieurs structures de données pour organiser l'information :"
      ]
     },
     {
      "cell_type": "code",
      "execution_count": null,
      "metadata": {},
      "outputs": [],
      "source": [
       "# Liste (collection ordonnée et modifiable)\n",
       "ma_liste = [1, 2, 3, 4, 5]\n",
       "print(f\"Ma liste: {ma_liste}\")\n",
       "print(f\"Premier élément: {ma_liste[0]}\")\n",
       "print(f\"Dernier élément: {ma_liste[-1]}\")\n",
       "\n",
       "# Ajouter un élément à la liste\n",
       "ma_liste.append(6)\n",
       "print(f\"Liste après ajout: {ma_liste}\")\n",
       "\n",
       "# Dictionnaire (collection de paires clé-valeur)\n",
       "mon_dict = {\"nom\": \"Dupont\", \"prénom\": \"Jean\", \"âge\": 30}\n",
       "print(f\"\\nMon dictionnaire: {mon_dict}\")\n",
       "print(f\"Prénom: {mon_dict['prénom']}\")\n",
       "\n",
       "# Ajouter une nouvelle paire clé-valeur\n",
       "mon_dict[\"ville\"] = \"Paris\"\n",
       "print(f\"Dictionnaire après ajout: {mon_dict}\")"
      ]
     },
     {
      "cell_type": "markdown",
      "metadata": {},
      "source": [
       "### Structures de contrôle\n",
       "\n",
       "Les structures de contrôle permettent de diriger le flux d'exécution du code :"
      ]
     },
     {
      "cell_type": "code",
      "execution_count": null,
      "metadata": {},
      "outputs": [],
      "source": [
       "# Condition if-else\n",
       "age = 20\n",
       "if age >= 18:\n",
       "    print(\"Majeur\")\n",
       "else:\n",
       "    print(\"Mineur\")\n",
       "\n",
       "# Boucle for\n",
       "print(\"\\nComptons de 1 à 5:\")\n",
       "for i in range(1, 6):\n",
       "    print(i)\n",
       "\n",
       "# Boucle for avec une liste\n",
       "print(\"\\nParcourons une liste:\")\n",
       "fruits = [\"pomme\", \"banane\", \"orange\"]\n",
       "for fruit in fruits:\n",
       "    print(f\"J'aime les {fruit}s\")"
      ]
     },
     {
      "cell_type": "markdown",
      "metadata": {},
      "source": [
       "## 3. Introduction à Pandas\n",
       "\n",
       "Pandas est une bibliothèque Python spécialisée dans la manipulation et l'analyse de données. Elle fournit des structures de données puissantes et flexibles pour travailler efficacement avec des données structurées.\n",
       "\n",
       "### Importation de la bibliothèque"
      ]
     },
     {
      "cell_type": "code",
      "execution_count": null,
      "metadata": {},
      "outputs": [],
      "source": [
       "# Importer pandas avec l'alias pd (convention standard)\n",
       "import pandas as pd\n",
       "import numpy as np  # NumPy est souvent utilisé avec Pandas\n",
       "\n",
       "print(f\"Version de Pandas: {pd.__version__}\")\n",
       "print(f\"Version de NumPy: {np.__version__}\")"
      ]
     },
     {
      "cell_type": "markdown",
      "metadata": {},
      "source": [
       "### Les structures de données de Pandas\n",
       "\n",
       "Pandas propose deux structures de données principales :\n",
       "- **Series** : tableau unidimensionnel étiqueté\n",
       "- **DataFrame** : tableau bidimensionnel étiqueté (comme un tableau Excel)\n",
       "\n",
       "#### Series"
      ]
     },
     {
      "cell_type": "code",
      "execution_count": null,
      "metadata": {},
      "outputs": [],
      "source": [
       "# Créer une Series à partir d'une liste\n",
       "notes = pd.Series([15, 12, 18, 14, 16])\n",
       "print(\"Series de notes:\")\n",
       "print(notes)\n",
       "\n",
       "# Créer une Series avec des index personnalisés\n",
       "notes_matières = pd.Series([15, 12, 18, 14, 16], \n",
       "                          index=[\"Maths\", \"Français\", \"Physique\", \"Histoire\", \"Anglais\"])\n",
       "print(\"\\nSeries de notes par matière:\")\n",
       "print(notes_matières)\n",
       "\n",
       "# Accéder à une valeur par son index\n",
       "print(f\"\\nNote en Physique: {notes_matières['Physique']}\")"
      ]
     },
     {
      "cell_type": "markdown",
      "metadata": {},
      "source": [
       "#### DataFrame\n",
       "\n",
       "Un DataFrame est comme un tableau Excel avec des lignes et des colonnes étiquetées."
      ]
     },
     {
      "cell_type": "code",
      "execution_count": null,
      "metadata": {},
      "outputs": [],
      "source": [
       "# Créer un DataFrame à partir d'un dictionnaire\n",
       "données = {\n",
       "    \"Nom\": [\"Dupont\", \"Martin\", \"Durand\", \"Petit\"],\n",
       "    \"Prénom\": [\"Jean\", \"Sophie\", \"Pierre\", \"Marie\"],\n",
       "    \"Âge\": [25, 30, 22, 28],\n",
       "    \"Ville\": [\"Paris\", \"Lyon\", \"Marseille\", \"Toulouse\"]\n",
       "}\n",
       "\n",
       "df_personnes = pd.DataFrame(données)\n",
       "print(\"DataFrame de personnes:\")\n",
       "print(df_personnes)"
      ]
     },
     {
      "cell_type": "markdown",
      "metadata": {},
      "source": [
       "### Exploration d'un DataFrame"
      ]
     },
     {
      "cell_type": "code",
      "execution_count": null,
      "metadata": {},
      "outputs": [],
      "source": [
       "# Afficher les premières lignes\n",
       "print(\"Les 2 premières lignes:\")\n",
       "print(df_personnes.head(2))\n",
       "\n",
       "# Afficher les informations sur le DataFrame\n",
       "print(\"\\nInformations sur le DataFrame:\")\n",
       "df_personnes.info()\n",
       "\n",
       "# Statistiques descriptives\n",
       "print(\"\\nStatistiques descriptives:\")\n",
       "print(df_personnes.describe())\n",
       "\n",
       "# Accéder à une colonne\n",
       "print(\"\\nColonne des âges:\")\n",
       "print(df_personnes[\"Âge\"])\n",
       "\n",
       "# Accéder à plusieurs colonnes\n",
       "print(\"\\nColonnes Nom et Prénom:\")\n",
       "print(df_personnes[[\"Nom\", \"Prénom\"]])"
      ]
     },
     {
      "cell_type": "markdown",
      "metadata": {},
      "source": [
       "## 4. Chargement de données depuis un fichier\n",
       "\n",
       "Pandas permet de charger facilement des données à partir de différents formats de fichiers (CSV, Excel, JSON, etc.). Commençons par charger un jeu de données CSV."
      ]
     },
     {
      "cell_type": "code",
      "execution_count": null,
      "metadata": {},
      "outputs": [],
      "source": [
       "# Charger le jeu de données de satisfaction des passagers\n",
       "chemin_fichier = '../../data/passenger_satisfaction/train.csv'\n",
       "satisfaction_df = pd.read_csv(chemin_fichier)\n",
       "\n",
       "# Afficher les 5 premières lignes\n",
       "print(\"Les 5 premières lignes du jeu de données:\")\n",
       "satisfaction_df.head()"
      ]
     },
     {
      "cell_type": "markdown",
      "metadata": {},
      "source": [
       "### Exploration du jeu de données"
      ]
     },
     {
      "cell_type": "code",
      "execution_count": null,
      "metadata": {},
      "outputs": [],
      "source": [
       "# Dimensions du DataFrame\n",
       "print(f\"Dimensions du DataFrame: {satisfaction_df.shape} (lignes, colonnes)\")\n",
       "\n",
       "# Noms des colonnes\n",
       "print(\"\\nNoms des colonnes:\")\n",
       "print(satisfaction_df.columns.tolist())\n",
       "\n",
       "# Informations sur le DataFrame\n",
       "print(\"\\nInformations sur le DataFrame:\")\n",
       "satisfaction_df.info()"
      ]
     },
     {
      "cell_type": "code",
      "execution_count": null,
      "metadata": {},
      "outputs": [],
      "source": [
       "# Statistiques descriptives\n",
       "satisfaction_df.describe()"
      ]
     },
     {
      "cell_type": "markdown",
      "metadata": {},
      "source": [
       "### Vérification des valeurs manquantes"
      ]
     },
     {
      "cell_type": "code",
      "execution_count": null,
      "metadata": {},
      "outputs": [],
      "source": [
       "# Vérifier s'il y a des valeurs manquantes\n",
       "valeurs_manquantes = satisfaction_df.isnull().sum()\n",
       "print(\"Nombre de valeurs manquantes par colonne:\")\n",
       "print(valeurs_manquantes[valeurs_manquantes > 0])  # Afficher uniquement les colonnes avec des valeurs manquantes"
      ]
     },
     {
      "cell_type": "markdown",
      "metadata": {},
      "source": [
       "## 5. Exercices pratiques\n",
       "\n",
       "Maintenant, c'est à vous de jouer ! Voici quelques exercices pour vous familiariser avec Pandas.\n",
       "\n",
       "### Exercice 1 : Création d'une Series\n",
       "\n",
       "Créez une Series contenant les températures (en °C) des 7 derniers jours : [22, 24, 19, 21, 25, 23, 20] avec les jours de la semaine comme index."
      ]
     },
     {
      "cell_type": "code",
      "execution_count": null,
      "metadata": {},
      "outputs": [],
      "source": [
       "# Votre code ici\n",
       "# Indice : utilisez pd.Series() avec les arguments data et index\n"
      ]
     },
     {
      "cell_type": "markdown",
      "metadata": {},
      "source": [
       "### Solution Exercice 1"
      ]
     },
     {
      "cell_type": "code",
      "execution_count": null,
      "metadata": {},
      "outputs": [],
      "source": [
       "# Solution\n",
       "températures = pd.Series([22, 24, 19, 21, 25, 23, 20], \n",
       "                         index=[\"Lundi\", \"Mardi\", \"Mercredi\", \"Jeudi\", \"Vendredi\", \"Samedi\", \"Dimanche\"])\n",
       "print(températures)"
      ]
     },
     {
      "cell_type": "markdown",
      "metadata": {},
      "source": [
       "### Exercice 2 : Création d'un DataFrame\n",
       "\n",
       "Créez un DataFrame représentant les résultats d'une compétition sportive avec les colonnes suivantes :\n",
       "- \"Athlète\" : [\"Alice\", \"Bob\", \"Charlie\", \"David\", \"Eva\"]\n",
       "- \"Sport\" : [\"Natation\", \"Course\", \"Natation\", \"Cyclisme\", \"Course\"]\n",
       "- \"Médaille\" : [\"Or\", \"Argent\", \"Bronze\", \"Or\", \"Bronze\"]\n",
       "- \"Temps\" : [58.5, 9.8, 62.1, 45.2, 10.5]"
      ]
     },
     {
      "cell_type": "code",
      "execution_count": null,
      "metadata": {},
      "outputs": [],
      "source": [
       "# Votre code ici\n",
       "# Indice : créez d'abord un dictionnaire avec les données, puis utilisez pd.DataFrame()\n"
      ]
     },
     {
      "cell_type": "markdown",
      "metadata": {},
      "source": [
       "### Solution Exercice 2"
      ]
     },
     {
      "cell_type": "code",
      "execution_count": null,
      "metadata": {},
      "outputs": [],
      "source": [
       "# Solution\n",
       "données_compétition = {\n",
       "    \"Athlète\": [\"Alice\", \"Bob\", \"Charlie\", \"David\", \"Eva\"],\n",
       "    \"Sport\": [\"Natation\", \"Course\", \"Natation\", \"Cyclisme\", \"Course\"],\n",
       "    \"Médaille\": [\"Or\", \"Argent\", \"Bronze\", \"Or\", \"Bronze\"],\n",
       "    \"Temps\": [58.5, 9.8, 62.1, 45.2, 10.5]\n",
       "}\n",
       "\n",
       "df_compétition = pd.DataFrame(données_compétition)\n",
       "print(df_compétition)"
      ]
     },
     {
      "cell_type": "markdown",
      "metadata": {},
      "source": [
       "### Exercice 3 : Exploration du jeu de données de satisfaction\n",
       "\n",
       "En utilisant le DataFrame `satisfaction_df` :\n",
       "1. Affichez les 3 dernières lignes du DataFrame\n",
       "2. Calculez l'âge moyen des passagers\n",
       "3. Comptez le nombre de passagers par classe (\"Class\")"
      ]
     },
     {
      "cell_type": "code",
      "execution_count": null,
      "metadata": {},
      "outputs": [],
      "source": [
       "# 1. Afficher les 3 dernières lignes\n",
       "# Indice : utilisez la méthode .tail()\n"
      ]
     },
     {
      "cell_type": "code",
      "execution_count": null,
      "metadata": {},
      "outputs": [],
      "source": [
       "# 2. Calculer l'âge moyen\n",
       "# Indice : utilisez la méthode .mean() sur la colonne appropriée\n"
      ]
     },
     {
      "cell_type": "code",
      "execution_count": null,
      "metadata": {},
      "outputs": [],
      "source": [
       "# 3. Compter le nombre de passagers par classe\n",
       "# Indice : utilisez la méthode .value_counts() sur la colonne appropriée\n"
      ]
     },
     {
      "cell_type": "markdown",
      "metadata": {},
      "source": [
       "### Solution Exercice 3"
      ]
     },
     {
      "cell_type": "code",
      "execution_count": null,
      "metadata": {},
      "outputs": [],
      "source": [
       "# 1. Afficher les 3 dernières lignes\n",
       "print(\"Les 3 dernières lignes:\")\n",
       "print(satisfaction_df.tail(3))"
      ]
     },
     {
      "cell_type": "code",
      "execution_count": null,
      "metadata": {},
      "outputs": [],
      "source": [
       "# 2. Calculer l'âge moyen\n",
       "age_moyen = satisfaction_df[\"Age\"].mean()\n",
       "print(f\"L'âge moyen des passagers est de {age_moyen:.2f} ans\")"
      ]
     },
     {
      "cell_type": "code",
      "execution_count": null,
      "metadata": {},
      "outputs": [],
      "source": [
       "# 3. Compter le nombre de passagers par classe\n",
       "nb_passagers_par_classe = satisfaction_df[\"Class\"].value_counts()\n",
       "print(\"Nombre de passagers par classe:\")\n",
       "print(nb_passagers_par_classe)"
      ]
     },
     {
      "cell_type": "markdown",
      "metadata": {},
      "source": [
       "## 6. Mini-projet : Analyse exploratoire simple\n",
       "\n",
       "Pour mettre en pratique ce que vous avez appris, réalisez une petite analyse exploratoire du jeu de données de satisfaction des passagers.\n",
       "\n",
       "1. Créez un sous-ensemble du DataFrame contenant uniquement les colonnes : \"Gender\", \"Age\", \"Customer Type\", \"Type of Travel\", \"Class\" et \"Satisfaction\"\n",
       "2. Calculez l'âge moyen par genre\n",
       "3. Comptez le nombre de passagers satisfaits et non satisfaits\n",
       "4. Calculez le pourcentage de satisfaction par classe de voyage"
      ]
     },
     {
      "cell_type": "code",
      "execution_count": null,
      "metadata": {},
      "outputs": [],
      "source": [
       "# 1. Créer un sous-ensemble du DataFrame\n",
       "colonnes_selectionnées = [\"Gender\", \"Age\", \"Customer Type\", \"Type of Travel\", \"Class\", \"Satisfaction\"]\n",
       "df_subset = satisfaction_df[colonnes_selectionnées]\n",
       "print(\"Sous-ensemble du DataFrame:\")\n",
       "print(df_subset.head())"
      ]
     },
     {
      "cell_type": "code",
      "execution_count": null,
      "metadata": {},
      "outputs": [],
      "source": [
       "# 2. Calculer l'âge moyen par genre\n",
       "age_moyen_par_genre = df_subset.groupby(\"Gender\")[\"Age\"].mean()\n",
       "print(\"Âge moyen par genre:\")\n",
       "print(age_moyen_par_genre)"
      ]
     },
     {
      "cell_type": "code",
      "execution_count": null,
      "metadata": {},
      "outputs": [],
      "source": [
       "# 3. Compter le nombre de passagers satisfaits et non satisfaits\n",
       "satisfaction_counts = df_subset[\"Satisfaction\"].value_counts()\n",
       "print(\"Nombre de passagers par niveau de satisfaction:\")\n",
       "print(satisfaction_counts)"
      ]
     },
     {
      "cell_type": "code",
      "execution_count": null,
      "metadata": {},
      "outputs": [],
      "source": [
       "# 4. Calculer le pourcentage de satisfaction par classe de voyage\n",
       "# D'abord, créons une colonne binaire pour la satisfaction\n",
       "df_subset[\"Est_Satisfait\"] = (df_subset[\"Satisfaction\"] == \"satisfied\").astype(int)\n",
       "\n",
       "# Calculer le pourcentage de satisfaction par classe\n",
       "satisfaction_par_classe = df_subset.groupby(\"Class\")[\"Est_Satisfait\"].mean() * 100\n",
       "print(\"Pourcentage de satisfaction par classe:\")\n",
       "print(satisfaction_par_classe)"
      ]
     },
     {
      "cell_type": "markdown",
      "metadata": {},
      "source": [
       "## Conclusion\n",
       "\n",
       "Félicitations ! Vous avez terminé le premier exercice sur l'introduction à Python et Pandas. Vous avez appris :\n",
       "- Les bases de Python (variables, structures de données, structures de contrôle)\n",
       "- Les structures de données fondamentales de Pandas (Series et DataFrame)\n",
       "- Comment charger et explorer un jeu de données\n",
       "- Comment effectuer des opérations de base sur un DataFrame\n",
       "\n",
       "Dans le prochain exercice, nous approfondirons la manipulation de données avec Pandas en explorant davantage le jeu de données de satisfaction des passagers."
      ]
     },
     {
      "cell_type": "markdown",
      "metadata": {},
      "source": [
       "## Ressources supplémentaires\n",
       "\n",
       "- [Documentation officielle de Pandas](https://pandas.pydata.org/docs/)\n",
       "- [Tutoriel Pandas 10 minutes](https://pandas.pydata.org/docs/user_guide/10min.html)\n",
       "- [W3Schools Python Tutorial](https://www.w3schools.com/python/)\n",
       "- [DataCamp - Introduction à Python](https://www.datacamp.com/courses/intro-to-python-for-data-science)"
      ]
     }
    ],
    "metadata": {
     "kernelspec": {
      "display_name": "Python 3",
      "language": "python",
      "name": "python3"
     },
     "language_info": {
      "codemirror_mode": {
       "name": "ipython",
       "version": 3
      },
      "file_extension": ".py",
      "mimetype": "text/x-python",
      "name": "python",
      "nbconvert_exporter": "python",
      "pygments_lexer": "ipython3",
      "version": "3.13.0"
     }
    },
    "nbformat": 4,
    "nbformat_minor": 4
   }