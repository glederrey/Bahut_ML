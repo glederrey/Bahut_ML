{
 "cells": [
  {
   "cell_type": "markdown",
   "metadata": {},
   "source": [
    "# Jour 1 - Exercice 4 : Manipulation Avancée et Visualisation de Données\n",
    "\n",
    "## Objectifs\n",
    "- Maîtriser les techniques avancées de manipulation de données avec Pandas\n",
    "- Créer des visualisations interactives et informatives avec Plotly\n",
    "- Réaliser une analyse exploratoire approfondie\n",
    "- Découvrir des insights pertinents dans les données de satisfaction des passagers\n",
    "- Apprendre à combiner plusieurs visualisations dans un tableau de bord\n",
    "\n",
    "## Introduction\n",
    "\n",
    "Dans ce notebook, nous allons approfondir les techniques de manipulation de données et de visualisation. Nous utiliserons le jeu de données de satisfaction des passagers d'une compagnie aérienne pour mettre en pratique ces concepts avancés. Ce notebook est conçu pour consolider et étendre les connaissances acquises dans les exercices précédents."
   ]
  },
  {
   "cell_type": "markdown",
   "metadata": {},
   "source": [
    "## 1. Préparation de l'environnement et chargement des données\n",
    "\n",
    "Commençons par importer les bibliothèques nécessaires et charger notre jeu de données."
   ]
  },
  {
   "cell_type": "code",
   "execution_count": null,
   "metadata": {},
   "outputs": [],
   "source": [
    "# Importation des bibliothèques standard\n",
    "import pandas as pd\n",
    "import numpy as np\n",
    "\n",
    "# Bibliothèques de visualisation\n",
    "import plotly\n",
    "import plotly.express as px\n",
    "import plotly.graph_objects as go\n",
    "from plotly.subplots import make_subplots\n",
    "\n",
    "# Configuration pour un meilleur affichage\n",
    "pd.set_option('display.max_columns', 30)\n",
    "pd.set_option('display.max_rows', 100)\n",
    "\n",
    "# Pour les calculs statistiques\n",
    "from scipy import stats\n",
    "\n",
    "# Pour les palettes de couleurs personnalisées\n",
    "import plotly.colors as pc\n",
    "\n",
    "print(f\"Pandas version: {pd.__version__}\")\n",
    "print(f\"Plotly version: {plotly.__version__}\")"
   ]
  },
  {
   "cell_type": "code",
   "execution_count": null,
   "metadata": {},
   "outputs": [],
   "source": [
    "# Chargement du jeu de données\n",
    "df = pd.read_csv('../../data/passenger_satisfaction/train.csv')\n",
    "\n",
    "# Affichage des premières lignes\n",
    "df.head()"
   ]
  },
  {
   "cell_type": "markdown",
   "metadata": {},
   "source": [
    "## 2. Exploration et nettoyage avancés des données\n",
    "\n",
    "Avant de procéder à l'analyse, examinons la structure de nos données et effectuons un nettoyage approfondi."
   ]
  },
  {
   "cell_type": "code",
   "execution_count": null,
   "metadata": {},
   "outputs": [],
   "source": [
    "# Informations sur le DataFrame\n",
    "df.info()"
   ]
  },
  {
   "cell_type": "code",
   "execution_count": null,
   "metadata": {},
   "outputs": [],
   "source": [
    "# Vérification des valeurs manquantes\n",
    "missing_values = df.isnull().sum()\n",
    "missing_percentage = (missing_values / len(df)) * 100\n",
    "\n",
    "# Créer un DataFrame pour mieux visualiser les valeurs manquantes\n",
    "missing_df = pd.DataFrame({\n",
    "    'Nombre de valeurs manquantes': missing_values,\n",
    "    'Pourcentage (%)': missing_percentage\n",
    "})\n",
    "\n",
    "# Afficher uniquement les colonnes avec des valeurs manquantes\n",
    "missing_df[missing_df['Nombre de valeurs manquantes'] > 0].sort_values('Pourcentage (%)', ascending=False)"
   ]
  },
  {
   "cell_type": "code",
   "execution_count": null,
   "metadata": {},
   "outputs": [],
   "source": [
    "# Vérification des valeurs manquantes\n",
    "missing_values = df.isnull().sum()\n",
    "missing_percentage = (missing_values / len(df)) * 100\n",
    "\n",
    "# Créer un DataFrame pour mieux visualiser les valeurs manquantes\n",
    "missing_df = pd.DataFrame({\n",
    "    'Nombre de valeurs manquantes': missing_values,\n",
    "    'Pourcentage (%)': missing_percentage\n",
    "})\n",
    "\n",
    "# Afficher uniquement les colonnes avec des valeurs manquantes\n",
    "missing_df[missing_df['Nombre de valeurs manquantes'] > 0].sort_values('Pourcentage (%)', ascending=False)"
   ]
  },
  {
   "cell_type": "markdown",
   "metadata": {},
   "source": [
    "### 2.2 Traitement avancé des valeurs manquantes\n",
    "\n",
    "Nous allons traiter les valeurs manquantes de manière plus sophistiquée en utilisant différentes stratégies selon la nature des colonnes."
   ]
  },
  {
   "cell_type": "code",
   "execution_count": null,
   "metadata": {},
   "outputs": [],
   "source": [
    "# Créer une copie du DataFrame pour ne pas modifier l'original\n",
    "df_clean = df.copy()\n",
    "\n",
    "# 1. Pour 'Arrival Delay in Minutes', nous utiliserons une imputation conditionnelle\n",
    "# Calculons d'abord la corrélation entre 'Departure Delay in Minutes' et 'Arrival Delay in Minutes'\n",
    "correlation = df['Departure Delay in Minutes'].corr(df['Arrival Delay in Minutes'].dropna())\n",
    "print(f\"Corrélation entre retard de départ et d'arrivée: {correlation:.4f}\")\n",
    "\n",
    "# Si la corrélation est forte, nous pouvons utiliser une régression linéaire simple pour prédire les valeurs manquantes\n",
    "if abs(correlation) > 0.7:  # Seuil arbitraire pour une forte corrélation\n",
    "    # Données pour la régression\n",
    "    X = df.dropna(subset=['Arrival Delay in Minutes'])[['Departure Delay in Minutes']]\n",
    "    y = df.dropna(subset=['Arrival Delay in Minutes'])['Arrival Delay in Minutes']\n",
    "    \n",
    "    # Régression linéaire simple\n",
    "    from sklearn.linear_model import LinearRegression\n",
    "    model = LinearRegression()\n",
    "    model.fit(X, y)\n",
    "    \n",
    "    # Prédire les valeurs manquantes\n",
    "    missing_indices = df['Arrival Delay in Minutes'].isna()\n",
    "    if missing_indices.sum() > 0:\n",
    "        predictions = model.predict(df[missing_indices][['Departure Delay in Minutes']])\n",
    "        df_clean.loc[missing_indices, 'Arrival Delay in Minutes'] = predictions\n",
    "        print(f\"Valeurs imputées pour 'Arrival Delay in Minutes': {len(predictions)}\")\n",
    "else:\n",
    "    # Si la corrélation n'est pas forte, utiliser la médiane\n",
    "    df_clean['Arrival Delay in Minutes'].fillna(df['Arrival Delay in Minutes'].median(), inplace=True)\n",
    "    print(f\"Valeurs manquantes dans 'Arrival Delay in Minutes' remplacées par la médiane\")\n",
    "\n",
    "# 2. Pour les autres colonnes avec des valeurs manquantes (si présentes)\n",
    "# Identifier les colonnes numériques et catégorielles\n",
    "numeric_cols = df.select_dtypes(include=['int64', 'float64']).columns\n",
    "categorical_cols = df.select_dtypes(include=['object']).columns\n",
    "\n",
    "# Imputer les valeurs manquantes dans les colonnes numériques avec la médiane\n",
    "for col in numeric_cols:\n",
    "    if df[col].isna().sum() > 0 and col != 'Arrival Delay in Minutes':  # Déjà traité\n",
    "        df_clean[col].fillna(df[col].median(), inplace=True)\n",
    "        print(f\"Valeurs manquantes dans '{col}' remplacées par la médiane\")\n",
    "\n",
    "# Imputer les valeurs manquantes dans les colonnes catégorielles avec le mode\n",
    "for col in categorical_cols:\n",
    "    if df[col].isna().sum() > 0:\n",
    "        df_clean[col].fillna(df[col].mode()[0], inplace=True)\n",
    "        print(f\"Valeurs manquantes dans '{col}' remplacées par le mode\")\n",
    "\n",
    "# Vérifier qu'il n'y a plus de valeurs manquantes\n",
    "print(f\"\\nNombre total de valeurs manquantes restantes: {df_clean.isna().sum().sum()}\")"
   ]
  },
  {
   "cell_type": "markdown",
   "metadata": {},
   "source": [
    "### 2.3 Transformation et création de nouvelles variables\n",
    "\n",
    "Créons de nouvelles variables qui pourraient révéler des insights intéressants."
   ]
  },
  {
   "cell_type": "code",
   "execution_count": null,
   "metadata": {},
   "outputs": [],
   "source": [
    "df.head()"
   ]
  },
  {
   "cell_type": "code",
   "execution_count": null,
   "metadata": {},
   "outputs": [],
   "source": [
    "# 1. Catégorisation de l'âge\n",
    "df_clean['Age_Group'] = pd.cut(\n",
    "    df_clean['Age'],\n",
    "    bins=[0, 18, 25, 35, 50, 65, 100],\n",
    "    labels=['<18', '18-25', '26-35', '36-50', '51-65', '65+'],\n",
    "    right=False\n",
    ")\n",
    "\n",
    "# 2. Calcul du retard total (départ + arrivée)\n",
    "df_clean['Total_Delay'] = df_clean['Departure Delay in Minutes'] + df_clean['Arrival Delay in Minutes']\n",
    "\n",
    "# 3. Catégorisation du retard total\n",
    "df_clean['Delay_Category'] = pd.cut(\n",
    "    df_clean['Total_Delay'],\n",
    "    bins=[-float('inf'), 0, 15, 60, float('inf')],\n",
    "    labels=['No Delay', 'Short Delay', 'Medium Delay', 'Long Delay']\n",
    ")\n",
    "\n",
    "# 4. Score moyen de satisfaction (pour toutes les colonnes de rating)\n",
    "# Identifier les colonnes de rating (celles qui contiennent 'rating' dans leur nom)\n",
    "rating_cols = ['Inflight wifi service', 'Departure/Arrival time convenient', 'Ease of Online booking', 'Gate location', 'Food and drink', 'Online boarding', 'Seat comfort', 'Inflight entertainment', 'On-board service', 'Leg room service', 'Baggage handling', 'Checkin service', 'Inflight service', 'Cleanliness']\n",
    "df_clean['Average_Rating'] = df_clean[rating_cols].mean(axis=1)\n",
    "\n",
    "# 5. Écart-type des ratings (pour mesurer la cohérence des évaluations)\n",
    "df_clean['Rating_StdDev'] = df_clean[rating_cols].std(axis=1)\n",
    "\n",
    "# 6. Créer une variable binaire pour la satisfaction\n",
    "df_clean['Is_Satisfied'] = df_clean['Satisfaction'].map({'satisfied': 1, 'neutral or dissatisfied': 0})\n",
    "\n",
    "# 7. Créer une variable pour la durée du vol par tranche de 100 km\n",
    "df_clean['Flight_Duration_per_100km'] = df_clean['Flight Distance'] / 100\n",
    "\n",
    "# Afficher les nouvelles colonnes\n",
    "df_clean[['Age', 'Age_Group', 'Total_Delay', 'Delay_Category', 'Average_Rating', 'Rating_StdDev', 'Is_Satisfied', 'Flight_Duration_per_100km']].head()"
   ]
  },
  {
   "cell_type": "markdown",
   "metadata": {},
   "source": [
    "### 2.4 Analyse des corrélations avancée\n",
    "\n",
    "Examinons les corrélations entre les variables numériques et leur relation avec la satisfaction."
   ]
  },
  {
   "cell_type": "code",
   "execution_count": null,
   "metadata": {},
   "outputs": [],
   "source": [
    "# Sélectionner les colonnes numériques pertinentes pour l'analyse de corrélation\n",
    "numeric_cols_for_corr = ['Age', 'Flight Distance', 'Departure Delay in Minutes', \n",
    "                         'Arrival Delay in Minutes', 'Total_Delay', 'Average_Rating', \n",
    "                         'Rating_StdDev', 'Is_Satisfied']\n",
    "numeric_cols_for_corr.extend(rating_cols)\n",
    "\n",
    "# Calculer la matrice de corrélation\n",
    "corr_matrix = df_clean[numeric_cols_for_corr].corr()\n",
    "\n",
    "# Créer une heatmap interactive avec Plotly\n",
    "fig = px.imshow(\n",
    "    corr_matrix,\n",
    "    text_auto='.2f',\n",
    "    aspect=\"auto\",\n",
    "    color_continuous_scale='RdBu_r',  # Échelle de couleur rouge-bleu inversée\n",
    "    title=\"Matrice de corrélation des variables numériques\",\n",
    "    zmin=-1, zmax=1  # Limites pour la corrélation\n",
    ")\n",
    "\n",
    "fig.update_layout(height=800, width=900)\n",
    "fig.show()"
   ]
  },
  {
   "cell_type": "markdown",
   "metadata": {},
   "source": [
    "### 2.5 Analyse des variables les plus corrélées avec la satisfaction"
   ]
  },
  {
   "cell_type": "code",
   "execution_count": null,
   "metadata": {},
   "outputs": [],
   "source": [
    "# Extraire les corrélations avec la satisfaction et les trier\n",
    "satisfaction_corr = corr_matrix['Is_Satisfied'].drop('Is_Satisfied').sort_values(ascending=False)\n",
    "\n",
    "# Créer un graphique à barres horizontal pour visualiser les corrélations\n",
    "fig = px.bar(\n",
    "    x=satisfaction_corr.values,\n",
    "    y=satisfaction_corr.index,\n",
    "    orientation='h',\n",
    "    title=\"Corrélation des variables avec la satisfaction\",\n",
    "    labels={'x': 'Coefficient de corrélation', 'y': 'Variables'},\n",
    "    color=satisfaction_corr.values,\n",
    "    color_continuous_scale='RdBu_r',\n",
    "    range_color=[-1, 1]\n",
    ")\n",
    "\n",
    "fig.update_traces(texttemplate='%{x:.3f}', textposition='outside')\n",
    "fig.update_layout(height=600, width=800)\n",
    "fig.show()"
   ]
  },
  {
   "cell_type": "code",
   "execution_count": null,
   "metadata": {},
   "outputs": [],
   "source": [
    "# Extraire les corrélations avec la satisfaction et les trier\n",
    "satisfaction_corr = corr_matrix['Is_Satisfied'].drop('Is_Satisfied').sort_values(ascending=False)\n",
    "\n",
    "# Créer un graphique à barres horizontal pour visualiser les corrélations\n",
    "fig = px.bar(\n",
    "    x=satisfaction_corr.values,\n",
    "    y=satisfaction_corr.index,\n",
    "    orientation='h',\n",
    "    title=\"Corrélation des variables avec la satisfaction\",\n",
    "    labels={'x': 'Coefficient de corrélation', 'y': 'Variables'},\n",
    "    color=satisfaction_corr.values,\n",
    "    color_continuous_scale='RdBu_r',\n",
    "    range_color=[-1, 1]\n",
    ")\n",
    "\n",
    "fig.update_traces(texttemplate='%{x:.3f}', textposition='outside')\n",
    "fig.update_layout(height=600, width=1000)\n",
    "fig.show()"
   ]
  },
  {
   "cell_type": "markdown",
   "metadata": {},
   "source": [
    "## 3. Visualisations avancées\n",
    "\n",
    "Maintenant que nous avons nettoyé et transformé nos données, créons des visualisations plus avancées pour explorer les facteurs qui influencent la satisfaction des passagers."
   ]
  },
  {
   "cell_type": "markdown",
   "metadata": {},
   "source": [
    "### 3.1 Distribution des évaluations par niveau de satisfaction\n",
    "\n",
    "Comparons la distribution des évaluations entre les passagers satisfaits et insatisfaits."
   ]
  },
  {
   "cell_type": "code",
   "execution_count": null,
   "metadata": {},
   "outputs": [],
   "source": [
    "# Créer un dataframe avec les colonnes de rating et la satisfaction\n",
    "rating_df = df_clean[rating_cols + ['Satisfaction']]\n",
    "\n",
    "# Convertir de format wide à format long pour faciliter la visualisation\n",
    "rating_long = pd.melt(rating_df, \n",
    "                      id_vars=['Satisfaction'], \n",
    "                      value_vars=rating_cols,\n",
    "                      var_name='Service', \n",
    "                      value_name='Rating')\n",
    "\n",
    "# Créer un boxplot pour comparer les distributions\n",
    "fig = px.box(rating_long, \n",
    "             x='Service', \n",
    "             y='Rating', \n",
    "             color='Satisfaction',\n",
    "             title='Distribution des évaluations par service et niveau de satisfaction',\n",
    "             color_discrete_map={'satisfied': '#2ca02c', 'neutral or dissatisfied': '#d62728'},\n",
    "             category_orders={'Service': sorted(rating_long['Service'].unique())},\n",
    "             labels={'Rating': 'Évaluation (0-5)', 'Service': 'Service', 'Satisfaction': 'Satisfaction'}\n",
    "            )\n",
    "\n",
    "fig.update_layout(height=600, width=1000, boxmode='group')\n",
    "fig.update_xaxes(tickangle=45)\n",
    "fig.show()"
   ]
  },
  {
   "cell_type": "markdown",
   "metadata": {},
   "source": [
    "### 3.2 Analyse multidimensionnelle avec des graphiques à bulles\n",
    "\n",
    "Créons un graphique à bulles pour visualiser plusieurs dimensions simultanément."
   ]
  },
  {
   "cell_type": "code",
   "execution_count": null,
   "metadata": {},
   "outputs": [],
   "source": [
    "# Calculer les moyennes par groupe d'âge et classe\n",
    "bubble_data = df_clean.groupby(['Age_Group', 'Class'])['Is_Satisfied'].mean().reset_index()\n",
    "bubble_data.rename(columns={'Is_Satisfied': 'Satisfaction_Rate'}, inplace=True)\n",
    "\n",
    "# Calculer le nombre de passagers dans chaque groupe\n",
    "counts = df_clean.groupby(['Age_Group', 'Class']).size().reset_index(name='Count')\n",
    "bubble_data = bubble_data.merge(counts, on=['Age_Group', 'Class'])\n",
    "\n",
    "# Calculer la note moyenne pour chaque groupe\n",
    "avg_ratings = df_clean.groupby(['Age_Group', 'Class'])['Average_Rating'].mean().reset_index()\n",
    "bubble_data = bubble_data.merge(avg_ratings, on=['Age_Group', 'Class'])\n",
    "\n",
    "# Convertir le taux de satisfaction en pourcentage\n",
    "bubble_data['Satisfaction_Rate'] = bubble_data['Satisfaction_Rate'] * 100\n",
    "\n",
    "# Créer le graphique à bulles\n",
    "fig = px.scatter(bubble_data, \n",
    "                x='Age_Group', \n",
    "                y='Satisfaction_Rate', \n",
    "                size='Count', \n",
    "                color='Class',\n",
    "                hover_name='Class',\n",
    "                hover_data=['Average_Rating', 'Count'],\n",
    "                text='Class',\n",
    "                size_max=60,\n",
    "                title='Taux de satisfaction par groupe d\\'âge et classe',\n",
    "                labels={'Age_Group': 'Groupe d\\'âge', \n",
    "                        'Satisfaction_Rate': 'Taux de satisfaction (%)', \n",
    "                        'Count': 'Nombre de passagers',\n",
    "                        'Class': 'Classe',\n",
    "                        'Average_Rating': 'Évaluation moyenne'}\n",
    "               )\n",
    "\n",
    "fig.update_traces(textposition='top center')\n",
    "fig.update_layout(height=600, width=900)\n",
    "fig.update_yaxes(range=[0, 100])\n",
    "fig.show()"
   ]
  },
  {
   "cell_type": "markdown",
   "metadata": {},
   "source": [
    "### 3.3 Analyse des retards et leur impact sur la satisfaction\n",
    "\n",
    "Explorons comment les retards affectent la satisfaction des passagers."
   ]
  },
  {
   "cell_type": "code",
   "execution_count": null,
   "metadata": {},
   "outputs": [],
   "source": [
    "# Créer des bins pour les retards de départ\n",
    "df_clean['Departure_Delay_Bins'] = pd.cut(\n",
    "    df_clean['Departure Delay in Minutes'],\n",
    "    bins=[-1, 0, 15, 30, 60, 120, float('inf')],\n",
    "    labels=['Pas de retard', '1-15 min', '16-30 min', '31-60 min', '1-2 heures', '> 2 heures']\n",
    ")\n",
    "\n",
    "# Calculer le taux de satisfaction pour chaque bin de retard et type de voyage\n",
    "delay_impact = df_clean.groupby(['Departure_Delay_Bins', 'Type of Travel'])['Is_Satisfied'].mean().reset_index()\n",
    "delay_impact.rename(columns={'Is_Satisfied': 'Satisfaction_Rate'}, inplace=True)\n",
    "delay_impact['Satisfaction_Rate'] = delay_impact['Satisfaction_Rate'] * 100\n",
    "\n",
    "# Créer un graphique linéaire\n",
    "fig = px.line(delay_impact, \n",
    "              x='Departure_Delay_Bins', \n",
    "              y='Satisfaction_Rate', \n",
    "              color='Type of Travel',\n",
    "              markers=True,\n",
    "              title='Impact du retard au départ sur la satisfaction par type de voyage',\n",
    "              labels={'Departure_Delay_Bins': 'Retard au départ', \n",
    "                      'Satisfaction_Rate': 'Taux de satisfaction (%)', \n",
    "                      'Type of Travel': 'Type de voyage'}\n",
    "             )\n",
    "\n",
    "fig.update_layout(height=500, width=900)\n",
    "fig.update_yaxes(range=[0, 100])\n",
    "fig.show()"
   ]
  },
  {
   "cell_type": "markdown",
   "metadata": {},
   "source": [
    "### 3.4 Analyse des facteurs de satisfaction par classe\n",
    "\n",
    "Créons un radar chart pour comparer les évaluations moyennes par classe."
   ]
  },
  {
   "cell_type": "code",
   "execution_count": null,
   "metadata": {},
   "outputs": [],
   "source": [
    "# Calculer les moyennes des évaluations par classe\n",
    "class_ratings = df_clean.groupby('Class')[rating_cols].mean().reset_index()\n",
    "\n",
    "# Préparer les données pour le radar chart\n",
    "categories = [col.replace('_rating', '').replace('_', ' ').title() for col in rating_cols]\n",
    "\n",
    "# Créer le radar chart\n",
    "fig = go.Figure()\n",
    "\n",
    "for i, class_type in enumerate(class_ratings['Class'].unique()):\n",
    "    values = class_ratings[class_ratings['Class'] == class_type][rating_cols].values.flatten().tolist()\n",
    "    # Ajouter la première valeur à la fin pour fermer le polygone\n",
    "    values.append(values[0])\n",
    "    categories_closed = categories + [categories[0]]\n",
    "    \n",
    "    fig.add_trace(go.Scatterpolar(\n",
    "        r=values,\n",
    "        theta=categories_closed,\n",
    "        fill='toself',\n",
    "        name=class_type\n",
    "    ))\n",
    "\n",
    "fig.update_layout(\n",
    "    polar=dict(\n",
    "        radialaxis=dict(\n",
    "            visible=True,\n",
    "            range=[0, 5]\n",
    "        )),\n",
    "    showlegend=True,\n",
    "    title='Évaluations moyennes par classe et service',\n",
    "    height=600,\n",
    "    width=800\n",
    ")\n",
    "\n",
    "fig.show()"
   ]
  },
  {
   "cell_type": "markdown",
   "metadata": {},
   "source": [
    "### 3.5 Analyse des segments de clientèle\n",
    "\n",
    "Utilisons une visualisation en treemap pour explorer les segments de clientèle et leur satisfaction."
   ]
  },
  {
   "cell_type": "code",
   "execution_count": null,
   "metadata": {},
   "outputs": [],
   "source": [
    "# Créer un dataframe agrégé par type de client, type de voyage et classe\n",
    "segment_data = df_clean.groupby(['Customer Type', 'Type of Travel', 'Class']).agg(\n",
    "    Count=('ID', 'count'),\n",
    "    Satisfaction_Rate=('Is_Satisfied', 'mean'),\n",
    "    Avg_Rating=('Average_Rating', 'mean')\n",
    ").reset_index()\n",
    "\n",
    "# Convertir le taux de satisfaction en pourcentage\n",
    "segment_data['Satisfaction_Rate'] = segment_data['Satisfaction_Rate'] * 100\n",
    "\n",
    "# Créer une colonne pour l'affichage dans le treemap\n",
    "segment_data['Label'] = segment_data['Customer Type'] + '<br>' + \\\n",
    "                        segment_data['Type of Travel'] + '<br>' + \\\n",
    "                        segment_data['Class'] + '<br>' + \\\n",
    "                        'Satisfaction: ' + segment_data['Satisfaction_Rate'].round(1).astype(str) + '%'\n",
    "\n",
    "# Créer le treemap\n",
    "fig = px.treemap(\n",
    "    segment_data,\n",
    "    path=['Customer Type', 'Type of Travel', 'Class'],\n",
    "    values='Count',\n",
    "    color='Satisfaction_Rate',\n",
    "    hover_data=['Avg_Rating'],\n",
    "    color_continuous_scale='RdYlGn',\n",
    "    range_color=[0, 100],\n",
    "    title='Segments de clientèle et taux de satisfaction',\n",
    "    labels={'Count': 'Nombre de passagers', 'Satisfaction_Rate': 'Taux de satisfaction (%)'}\n",
    ")\n",
    "\n",
    "fig.update_traces(textinfo='label+value+percent parent')\n",
    "fig.update_layout(height=700, width=900)\n",
    "fig.show()"
   ]
  },
  {
   "cell_type": "markdown",
   "metadata": {},
   "source": [
    "## 4. Tableau de bord interactif\n",
    "\n",
    "Créons un tableau de bord interactif qui combine plusieurs visualisations pour une analyse plus complète."
   ]
  },
  {
   "cell_type": "code",
   "execution_count": null,
   "metadata": {},
   "outputs": [],
   "source": [
    "# Créer un tableau de bord avec plusieurs sous-graphiques\n",
    "fig = make_subplots(\n",
    "    rows=2, cols=2,\n",
    "    subplot_titles=(\n",
    "        'Satisfaction par groupe d\\'âge',\n",
    "        'Satisfaction par classe et type de voyage',\n",
    "        'Impact du retard sur la satisfaction',\n",
    "        'Top 5 facteurs influençant la satisfaction'\n",
    "    ),\n",
    "    specs=[\n",
    "        [{'type': 'bar'}, {'type': 'pie'}],\n",
    "        [{'type': 'scatter'}, {'type': 'bar'}]\n",
    "    ],\n",
    "    vertical_spacing=0.1,\n",
    "    horizontal_spacing=0.1\n",
    ")\n",
    "\n",
    "# 1. Graphique à barres: Satisfaction par groupe d'âge\n",
    "age_satisfaction = df_clean.groupby('Age_Group')['Is_Satisfied'].mean().reset_index()\n",
    "age_satisfaction['Satisfaction_Rate'] = age_satisfaction['Is_Satisfied'] * 100\n",
    "\n",
    "fig.add_trace(\n",
    "    go.Bar(\n",
    "        x=age_satisfaction['Age_Group'],\n",
    "        y=age_satisfaction['Satisfaction_Rate'],\n",
    "        text=age_satisfaction['Satisfaction_Rate'].round(1),\n",
    "        textposition='auto',\n",
    "        marker_color='#1f77b4'\n",
    "    ),\n",
    "    row=1, col=1\n",
    ")\n",
    "\n",
    "# 2. Graphique circulaire: Satisfaction par classe et type de voyage\n",
    "class_travel_satisfaction = df_clean.groupby(['Class', 'Type of Travel']).agg(\n",
    "    Count=('ID', 'count'),\n",
    "    Satisfaction_Rate=('Is_Satisfied', 'mean')\n",
    ").reset_index()\n",
    "class_travel_satisfaction['Satisfaction_Rate'] = class_travel_satisfaction['Satisfaction_Rate'] * 100\n",
    "class_travel_satisfaction['Label'] = class_travel_satisfaction['Class'] + ' - ' + class_travel_satisfaction['Type of Travel']\n",
    "\n",
    "fig.add_trace(\n",
    "    go.Pie(\n",
    "        labels=class_travel_satisfaction['Label'],\n",
    "        values=class_travel_satisfaction['Count'],\n",
    "        text=class_travel_satisfaction['Satisfaction_Rate'].round(1).astype(str) + '%',\n",
    "        hoverinfo='label+text+percent',\n",
    "        textinfo='percent',\n",
    "        marker=dict(colors=px.colors.qualitative.Pastel)\n",
    "    ),\n",
    "    row=1, col=2\n",
    ")\n",
    "\n",
    "# 3. Graphique linéaire: Impact du retard sur la satisfaction\n",
    "delay_bins = pd.cut(\n",
    "    df_clean['Total_Delay'],\n",
    "    bins=[-float('inf'), 0, 15, 30, 60, 120, float('inf')],\n",
    "    labels=['0', '1-15', '16-30', '31-60', '61-120', '>120']\n",
    ")\n",
    "df_clean['Delay_Bins'] = delay_bins\n",
    "delay_impact = df_clean.groupby('Delay_Bins')['Is_Satisfied'].mean().reset_index()\n",
    "delay_impact['Satisfaction_Rate'] = delay_impact['Is_Satisfied'] * 100\n",
    "\n",
    "fig.add_trace(\n",
    "    go.Scatter(\n",
    "        x=delay_impact['Delay_Bins'],\n",
    "        y=delay_impact['Satisfaction_Rate'],\n",
    "        mode='lines+markers+text',\n",
    "        text=delay_impact['Satisfaction_Rate'].round(1),\n",
    "        textposition='top center',\n",
    "        line=dict(color='#2ca02c', width=3),\n",
    "        marker=dict(size=10)\n",
    "    ),\n",
    "    row=2, col=1\n",
    ")\n",
    "\n",
    "# 4. Graphique à barres: Top 5 facteurs influençant la satisfaction\n",
    "top_factors = satisfaction_corr.head(5)\n",
    "\n",
    "fig.add_trace(\n",
    "    go.Bar(\n",
    "        x=top_factors.values,\n",
    "        y=top_factors.index,\n",
    "        orientation='h',\n",
    "        text=top_factors.values.round(3),\n",
    "        textposition='auto',\n",
    "        marker_color='#d62728'\n",
    "    ),\n",
    "    row=2, col=2\n",
    ")\n",
    "\n",
    "# Mise à jour de la mise en page\n",
    "fig.update_layout(\n",
    "    title_text='Tableau de bord de la satisfaction des passagers',\n",
    "    height=900,\n",
    "    width=1200,\n",
    "    showlegend=False\n",
    ")\n",
    "\n",
    "# Mise à jour des axes\n",
    "fig.update_yaxes(title_text='Taux de satisfaction (%)', range=[0, 100], row=1, col=1)\n",
    "fig.update_xaxes(title_text='Groupe d\\'âge', row=1, col=1)\n",
    "\n",
    "fig.update_yaxes(title_text='Taux de satisfaction (%)', range=[0, 100], row=2, col=1)\n",
    "fig.update_xaxes(title_text='Retard total (minutes)', row=2, col=1)\n",
    "\n",
    "fig.update_yaxes(title_text='Facteurs', row=2, col=2)\n",
    "fig.update_xaxes(title_text='Coefficient de corrélation', row=2, col=2)\n",
    "\n",
    "fig.show()"
   ]
  },
  {
   "cell_type": "markdown",
   "metadata": {},
   "source": [
    "## 5. Exercices pratiques\n",
    "\n",
    "### Exercice 1: Analyse des passagers fréquents vs occasionnels\n",
    "\n",
    "Objectif: Comparer la satisfaction et les évaluations des passagers fréquents (Loyal Customer) \n",
    "et occasionnels (disloyal Customer)\n",
    "1. Créez un graphique comparant les taux de satisfaction entre ces deux groupes\n",
    "2. Analysez si les facteurs de satisfaction diffèrent entre ces deux groupes\n",
    "3. Visualisez les différences d'évaluation pour chaque service"
   ]
  },
  {
   "cell_type": "code",
   "execution_count": 39,
   "metadata": {},
   "outputs": [],
   "source": [
    "# Votre code ici"
   ]
  },
  {
   "cell_type": "markdown",
   "metadata": {},
   "source": [
    "### Exercice 2: Impact de la distance de vol sur la satisfaction\n",
    "\n",
    "Objectif: Analyser comment la distance de vol influence la satisfaction des passagers\n",
    "1. Créez des catégories de distance (court, moyen et long courrier)\n",
    "2. Visualisez le taux de satisfaction par catégorie de distance\n",
    "3. Analysez si certains services sont plus importants selon la distance"
   ]
  },
  {
   "cell_type": "code",
   "execution_count": 40,
   "metadata": {},
   "outputs": [],
   "source": [
    "# Votre code ici"
   ]
  },
  {
   "cell_type": "markdown",
   "metadata": {},
   "source": [
    "### Exercice 3: Création d'un score de prédiction de satisfaction\n",
    "\n",
    "Objectif: Créer un score simple pour prédire la satisfaction des passagers\n",
    "1. Sélectionnez les 3-5 variables les plus corrélées à la satisfaction\n",
    "2. Créez une formule pondérée basée sur ces variables\n",
    "3. Évaluez la performance de votre score en calculant son taux de précision"
   ]
  },
  {
   "cell_type": "code",
   "execution_count": null,
   "metadata": {},
   "outputs": [],
   "source": [
    "# Votre code ici"
   ]
  },
  {
   "cell_type": "markdown",
   "metadata": {},
   "source": [
    "### Exercice 4: Analyse personnalisée\n",
    "\n",
    "Objectif: Réalisez une analyse de votre choix qui n'a pas encore été couverte\n",
    "\n",
    "Quelques idées:\n",
    "- Analyse par genre et âge\n",
    "- Impact combiné du type de voyage et de la classe\n",
    "- Analyse temporelle (si des données de date sont disponibles)\n",
    "- Segmentation avancée des clients"
   ]
  },
  {
   "cell_type": "code",
   "execution_count": null,
   "metadata": {},
   "outputs": [],
   "source": [
    "# Votre code ici"
   ]
  },
  {
   "cell_type": "markdown",
   "metadata": {},
   "source": [
    "## 6. Conclusion et recommandations\n",
    "\n",
    "Dans ce notebook, nous avons réalisé une analyse approfondie des données de satisfaction des passagers aériens. Voici les principales conclusions et recommandations :\n",
    "\n",
    "### Principaux facteurs influençant la satisfaction :\n",
    "1. **Confort et services à bord** : Les évaluations des services en vol sont fortement corrélées à la satisfaction globale.\n",
    "2. **Retards** : Les retards ont un impact négatif significatif sur la satisfaction, particulièrement pour les voyageurs d'affaires.\n",
    "3. **Classe de voyage** : Les passagers de la classe affaires sont généralement plus satisfaits que ceux de la classe économique.\n",
    "4. **Segments de clientèle** : Nous avons identifié plusieurs segments distincts avec des besoins et des attentes différents.\n",
    "\n",
    "### Recommandations pour améliorer la satisfaction :\n",
    "1. **Améliorer les services en vol** : Se concentrer sur les facteurs ayant la plus forte corrélation avec la satisfaction.\n",
    "2. **Réduire les retards** : Mettre en place des mesures pour minimiser les retards, particulièrement pour les vols d'affaires.\n",
    "3. **Personnaliser l'expérience** : Adapter les services en fonction des différents segments de clientèle identifiés.\n",
    "4. **Améliorer la communication** : Informer proactivement les passagers en cas de retard pour atténuer l'impact sur la satisfaction."
   ]
  },
  {
   "cell_type": "markdown",
   "metadata": {},
   "source": []
  }
 ],
 "metadata": {
  "kernelspec": {
   "display_name": "Python 3",
   "language": "python",
   "name": "python3"
  },
  "language_info": {
   "codemirror_mode": {
    "name": "ipython",
    "version": 3
   },
   "file_extension": ".py",
   "mimetype": "text/x-python",
   "name": "python",
   "nbconvert_exporter": "python",
   "pygments_lexer": "ipython3",
   "version": "3.8.10"
  }
 },
 "nbformat": 4,
 "nbformat_minor": 4
}
