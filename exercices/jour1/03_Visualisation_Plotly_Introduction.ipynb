{
 "cells": [
  {
   "cell_type": "markdown",
   "metadata": {},
   "source": [
    "# Jour 1 - Exercice 3 : Visualisation de données avec Plotly (Introduction)\n",
    "\n",
    "## Objectifs\n",
    "- Comprendre l'importance de la visualisation de données\n",
    "- Apprendre les bases de Plotly Express pour créer des graphiques interactifs\n",
    "- Maîtriser les types de graphiques fondamentaux (barres, histogrammes, camemberts)\n",
    "- Personnaliser simplement les visualisations\n",
    "- Créer un tableau de bord simple\n",
    "\n",
    "## Introduction\n",
    "\n",
    "La visualisation des données est une étape cruciale dans l'analyse de données et le machine learning. Elle permet de :\n",
    "- Comprendre rapidement la distribution des données\n",
    "- Identifier des tendances et des relations entre variables\n",
    "- Détecter des anomalies ou des valeurs aberrantes\n",
    "- Communiquer efficacement les résultats d'une analyse\n",
    "\n",
    "Dans ce notebook, nous allons découvrir les bases de la visualisation de données avec Plotly, une bibliothèque Python qui permet de créer des graphiques interactifs. Nous utiliserons principalement Plotly Express, qui est une interface simplifiée de Plotly, idéale pour débuter."
   ]
  },
  {
   "cell_type": "markdown",
   "metadata": {},
   "source": [
    "## 1. Importation des bibliothèques nécessaires"
   ]
  },
  {
   "cell_type": "code",
   "execution_count": null,
   "metadata": {},
   "outputs": [],
   "source": [
    "# Importer les bibliothèques nécessaires\n",
    "import pandas as pd\n",
    "import numpy as np\n",
    "\n",
    "# Importer Plotly\n",
    "import plotly\n",
    "import plotly.express as px  # Interface simplifiée de Plotly\n",
    "import plotly.graph_objects as go  # Interface plus complète de Plotly\n",
    "from plotly.subplots import make_subplots  # Pour créer des sous-graphiques\n",
    "\n",
    "# Afficher les versions des bibliothèques\n",
    "print(\"Pandas version:\", pd.__version__)\n",
    "print(\"Plotly version:\", plotly.__version__)"
   ]
  },
  {
   "cell_type": "markdown",
   "metadata": {},
   "source": [
    "## 2. Chargement des données\n",
    "\n",
    "Pour cet exercice, nous allons utiliser le jeu de données de satisfaction des passagers aériens, que nous avons déjà exploré dans les notebooks précédents."
   ]
  },
  {
   "cell_type": "code",
   "execution_count": null,
   "metadata": {},
   "outputs": [],
   "source": [
    "# Charger le jeu de données\n",
    "df = pd.read_csv('../../data/passenger_satisfaction/train.csv')\n",
    "\n",
    "# Afficher les premières lignes\n",
    "df.head()"
   ]
  },
  {
   "cell_type": "markdown",
   "metadata": {},
   "source": [
    "## 3. Pourquoi visualiser les données ?\n",
    "\n",
    "Avant de commencer à créer des graphiques, prenons un moment pour comprendre pourquoi la visualisation est importante. Examinons quelques statistiques descriptives de notre jeu de données :"
   ]
  },
  {
   "cell_type": "code",
   "execution_count": null,
   "metadata": {},
   "outputs": [],
   "source": [
    "# Statistiques descriptives pour l'âge des passagers\n",
    "df['Age'].describe()"
   ]
  },
  {
   "cell_type": "markdown",
   "metadata": {},
   "source": [
    "Ces statistiques nous donnent des informations utiles, mais elles ne nous permettent pas de visualiser la distribution complète des âges. C'est là que la visualisation entre en jeu :"
   ]
  },
  {
   "cell_type": "code",
   "execution_count": null,
   "metadata": {},
   "outputs": [],
   "source": [
    "# Créer un histogramme pour visualiser la distribution des âges\n",
    "fig = px.histogram(df, x='Age', title='Distribution des âges des passagers',\n",
    "                  labels={'Age': 'Âge', 'count': 'Nombre de passagers'},\n",
    "                  color_discrete_sequence=['#636EFA'])\n",
    "fig.update_layout(height=500, width=700)\n",
    "fig.show()"
   ]
  },
  {
   "cell_type": "markdown",
   "metadata": {},
   "source": [
    "Ce graphique nous permet de voir immédiatement la forme de la distribution, ce qui n'était pas évident avec les statistiques descriptives seules.\n",
    "\n",
    "De même, pour comprendre la relation entre deux variables, une visualisation est souvent plus parlante qu'un simple coefficient de corrélation :"
   ]
  },
  {
   "cell_type": "code",
   "execution_count": null,
   "metadata": {},
   "outputs": [],
   "source": [
    "# Calculer la corrélation entre l'âge et la distance de vol\n",
    "correlation = df['Age'].corr(df['Flight Distance'])\n",
    "print(f\"Corrélation entre l'âge et la distance de vol : {correlation:.4f}\")\n",
    "\n",
    "# Visualiser cette relation avec un nuage de points\n",
    "fig = px.scatter(df, x='Age', y='Flight Distance', title='Relation entre l\\'âge et la distance de vol',\n",
    "                labels={'Age': 'Âge', 'Flight Distance': 'Distance de vol (km)'},\n",
    "                opacity=0.6)\n",
    "fig.update_layout(height=500, width=700)\n",
    "fig.show()"
   ]
  },
  {
   "cell_type": "markdown",
   "metadata": {},
   "source": [
    "## 4. Les bases de Plotly Express\n",
    "\n",
    "Plotly Express (px) est une interface simplifiée pour créer des graphiques avec Plotly. Elle permet de créer rapidement des visualisations interactives avec peu de code.\n",
    "\n",
    "La structure générale d'une commande Plotly Express est la suivante :\n",
    "\n",
    "```python\n",
    "fig = px.type_de_graphique(dataframe, x='colonne_x', y='colonne_y', color='colonne_couleur', ...)\n",
    "fig.update_layout(...)  # Personnalisation optionnelle\n",
    "fig.show()  # Affichage du graphique\n",
    "```\n",
    "\n",
    "Voyons les types de graphiques les plus courants :"
   ]
  },
  {
   "cell_type": "markdown",
   "metadata": {},
   "source": [
    "### 4.1 Graphique à barres (Bar Chart)\n",
    "\n",
    "Les graphiques à barres sont parfaits pour comparer des catégories."
   ]
  },
  {
   "cell_type": "code",
   "execution_count": null,
   "metadata": {},
   "outputs": [],
   "source": [
    "# Compter le nombre de passagers par classe\n",
    "class_counts = df['Class'].value_counts().reset_index()\n",
    "class_counts.columns = ['Class', 'Count']\n",
    "\n",
    "# Créer un graphique à barres\n",
    "fig = px.bar(class_counts, x='Class', y='Count', \n",
    "            title='Nombre de passagers par classe',\n",
    "            labels={'Class': 'Classe', 'Count': 'Nombre de passagers'},\n",
    "            color='Class',  # Colorer les barres selon la classe\n",
    "            color_discrete_sequence=px.colors.qualitative.Pastel)\n",
    "fig.update_layout(height=500, width=700)\n",
    "fig.show()"
   ]
  },
  {
   "cell_type": "markdown",
   "metadata": {},
   "source": [
    "### 4.2 Histogramme (Histogram)\n",
    "\n",
    "Les histogrammes sont utilisés pour visualiser la distribution d'une variable numérique."
   ]
  },
  {
   "cell_type": "code",
   "execution_count": null,
   "metadata": {},
   "outputs": [],
   "source": [
    "# Créer un histogramme pour la distance de vol\n",
    "fig = px.histogram(df, x='Flight Distance', \n",
    "                  title='Distribution des distances de vol',\n",
    "                  labels={'Flight Distance': 'Distance de vol (km)', 'count': 'Nombre de vols'},\n",
    "                  nbins=30,  # Nombre de bins (barres)\n",
    "                  color_discrete_sequence=['#00CC96'])\n",
    "fig.update_layout(height=500, width=700)\n",
    "fig.show()"
   ]
  },
  {
   "cell_type": "markdown",
   "metadata": {},
   "source": [
    "### 4.3 Graphique en camembert (Pie Chart)\n",
    "\n",
    "Les graphiques en camembert sont utiles pour montrer les proportions d'un tout."
   ]
  },
  {
   "cell_type": "code",
   "execution_count": null,
   "metadata": {},
   "outputs": [],
   "source": [
    "# Créer un graphique en camembert pour la satisfaction\n",
    "fig = px.pie(df, names='Satisfaction', \n",
    "            title='Répartition de la satisfaction des passagers',\n",
    "            color_discrete_sequence=px.colors.sequential.RdBu)\n",
    "fig.update_traces(textinfo='percent+label')  # Afficher les pourcentages et les labels\n",
    "fig.update_layout(height=500, width=700)\n",
    "fig.show()"
   ]
  },
  {
   "cell_type": "markdown",
   "metadata": {},
   "source": [
    "### 4.4 Boîte à moustaches (Box Plot)\n",
    "\n",
    "Les boîtes à moustaches permettent de visualiser la distribution d'une variable numérique et d'identifier les valeurs aberrantes."
   ]
  },
  {
   "cell_type": "code",
   "execution_count": null,
   "metadata": {},
   "outputs": [],
   "source": [
    "# Créer une boîte à moustaches pour l'âge par classe\n",
    "fig = px.box(df, x='Class', y='Age', \n",
    "            title='Distribution des âges par classe',\n",
    "            labels={'Class': 'Classe', 'Age': 'Âge'},\n",
    "            color='Class',\n",
    "            color_discrete_sequence=px.colors.qualitative.Safe)\n",
    "fig.update_layout(height=500, width=700)\n",
    "fig.show()"
   ]
  },
  {
   "cell_type": "markdown",
   "metadata": {},
   "source": [
    "## 5. Personnalisation des graphiques\n",
    "\n",
    "Plotly permet de personnaliser facilement les graphiques pour les rendre plus informatifs et esthétiques."
   ]
  },
  {
   "cell_type": "code",
   "execution_count": null,
   "metadata": {},
   "outputs": [],
   "source": [
    "# Créer un histogramme avec des personnalisations\n",
    "fig = px.histogram(df, x='Age', color='Gender',\n",
    "                  title='Distribution des âges par genre',\n",
    "                  labels={'Age': 'Âge', 'count': 'Nombre de passagers', 'Gender': 'Genre'},\n",
    "                  opacity=0.8,  # Transparence\n",
    "                  barmode='overlay',  # Superposer les barres au lieu de les empiler\n",
    "                  color_discrete_map={'Male': '#636EFA', 'Female': '#EF553B'},  # Couleurs personnalisées\n",
    "                  marginal='box')  # Ajouter une boîte à moustaches en marge\n",
    "\n",
    "# Personnaliser davantage avec update_layout\n",
    "fig.update_layout(\n",
    "    height=600,\n",
    "    width=800,\n",
    "    title_font_size=20,\n",
    "    xaxis_title_font_size=16,\n",
    "    yaxis_title_font_size=16,\n",
    "    legend_title_font_size=16\n",
    ")\n",
    "\n",
    "fig.show()"
   ]
  },
  {
   "cell_type": "markdown",
   "metadata": {},
   "source": [
    "## 6. Création d'un tableau de bord simple\n",
    "\n",
    "Nous pouvons combiner plusieurs graphiques pour créer un tableau de bord simple."
   ]
  },
  {
   "cell_type": "code",
   "execution_count": null,
   "metadata": {},
   "outputs": [],
   "source": [
    "# Créer un tableau de bord avec 2 graphiques côte à côte\n",
    "fig = make_subplots(rows=1, cols=2, \n",
    "                   subplot_titles=('Satisfaction par type de client', 'Satisfaction par type de voyage'),\n",
    "                   specs=[[{'type': 'bar'}, {'type': 'bar'}]])\n",
    "\n",
    "# Préparer les données pour le premier graphique\n",
    "customer_satisfaction = df.groupby('Customer Type')['Satisfaction'].value_counts().unstack()\n",
    "customer_satisfaction_pct = customer_satisfaction.div(customer_satisfaction.sum(axis=1), axis=0) * 100\n",
    "\n",
    "# Ajouter le premier graphique\n",
    "for satisfaction in customer_satisfaction_pct.columns:\n",
    "    fig.add_trace(\n",
    "        go.Bar(\n",
    "            x=customer_satisfaction_pct.index,\n",
    "            y=customer_satisfaction_pct[satisfaction],\n",
    "            name=satisfaction\n",
    "        ),\n",
    "        row=1, col=1\n",
    "    )\n",
    "\n",
    "# Préparer les données pour le deuxième graphique\n",
    "travel_satisfaction = df.groupby('Type of Travel')['Satisfaction'].value_counts().unstack()\n",
    "travel_satisfaction_pct = travel_satisfaction.div(travel_satisfaction.sum(axis=1), axis=0) * 100\n",
    "\n",
    "# Ajouter le deuxième graphique\n",
    "for satisfaction in travel_satisfaction_pct.columns:\n",
    "    fig.add_trace(\n",
    "        go.Bar(\n",
    "            x=travel_satisfaction_pct.index,\n",
    "            y=travel_satisfaction_pct[satisfaction],\n",
    "            name=satisfaction,\n",
    "            showlegend=False  # Ne pas répéter la légende\n",
    "        ),\n",
    "        row=1, col=2\n",
    "    )\n",
    "\n",
    "# Personnaliser le tableau de bord\n",
    "fig.update_layout(\n",
    "    title_text=\"Analyse de la satisfaction par catégorie\",\n",
    "    height=500,\n",
    "    width=1000,\n",
    "    barmode='stack'  # Empiler les barres\n",
    ")\n",
    "\n",
    "# Mettre à jour les axes\n",
    "fig.update_yaxes(title_text='Pourcentage (%)', range=[0, 100], row=1, col=1)\n",
    "fig.update_yaxes(title_text='Pourcentage (%)', range=[0, 100], row=1, col=2)\n",
    "fig.update_xaxes(title_text='Type de client', row=1, col=1)\n",
    "fig.update_xaxes(title_text='Type de voyage', row=1, col=2)\n",
    "\n",
    "fig.show()"
   ]
  },
  {
   "cell_type": "markdown",
   "metadata": {},
   "source": [
    "## 7. Mini-projet : Analyse visuelle de la satisfaction des passagers\n",
    "\n",
    "Maintenant que nous avons appris les bases de Plotly, réalisons une petite analyse visuelle pour comprendre les facteurs qui influencent la satisfaction des passagers."
   ]
  },
  {
   "cell_type": "code",
   "execution_count": null,
   "metadata": {},
   "outputs": [],
   "source": [
    "# Créer une nouvelle colonne pour indiquer si le vol a été retardé\n",
    "df['Flight_Delayed'] = df['Departure Delay in Minutes'] > 0\n",
    "df['Flight_Delayed'] = df['Flight_Delayed'].map({True: 'Vol retardé', False: 'Vol à l\\'heure'})\n",
    "\n",
    "# Visualiser l'impact du retard sur la satisfaction\n",
    "fig = px.histogram(df, x='Flight_Delayed', color='Satisfaction', barmode='group',\n",
    "                  title=\"Impact du retard sur la satisfaction des passagers\",\n",
    "                  labels={'Flight_Delayed': 'Statut du vol', 'count': 'Nombre de passagers', 'Satisfaction': 'Satisfaction'},\n",
    "                  color_discrete_map={'satisfied': '#636EFA', 'neutral or dissatisfied': '#EF553B'})\n",
    "fig.update_layout(height=500, width=700)\n",
    "fig.show()"
   ]
  },
  {
   "cell_type": "code",
   "execution_count": null,
   "metadata": {},
   "outputs": [],
   "source": [
    "# Sélectionner les colonnes d'évaluation des services\n",
    "service_columns = ['Inflight wifi service', 'Departure/Arrival time convenient', 'Ease of Online booking',\n",
    "                  'Gate location', 'Food and drink', 'Online boarding', 'Seat comfort',\n",
    "                  'Inflight entertainment', 'On-board service', 'Leg room service',\n",
    "                  'Baggage handling', 'Checkin service', 'Inflight service', 'Cleanliness']\n",
    "\n",
    "# Calculer les évaluations moyennes par niveau de satisfaction\n",
    "service_ratings = df.groupby('Satisfaction')[service_columns].mean().reset_index()\n",
    "\n",
    "# Transformer les données pour Plotly\n",
    "service_ratings_melted = pd.melt(service_ratings, id_vars=['Satisfaction'], value_vars=service_columns,\n",
    "                               var_name='Service', value_name='Évaluation moyenne')\n",
    "\n",
    "# Créer un graphique à barres pour comparer les évaluations\n",
    "fig = px.bar(service_ratings_melted, x='Service', y='Évaluation moyenne', color='Satisfaction', barmode='group',\n",
    "            title='Évaluations moyennes des services par niveau de satisfaction',\n",
    "            labels={'Service': 'Service', 'Évaluation moyenne': 'Évaluation moyenne (0-5)'},\n",
    "            color_discrete_map={'satisfied': '#636EFA', 'neutral or dissatisfied': '#EF553B'})\n",
    "\n",
    "# Personnaliser le graphique\n",
    "fig.update_layout(\n",
    "    height=600,\n",
    "    width=1000,\n",
    "    xaxis_tickangle=-45  # Incliner les étiquettes de l'axe x\n",
    ")\n",
    "\n",
    "fig.show()"
   ]
  },
  {
   "cell_type": "code",
   "execution_count": null,
   "metadata": {},
   "outputs": [],
   "source": [
    "# Créer une catégorie d'âge pour faciliter l'analyse\n",
    "df['Age_Category'] = pd.cut(df['Age'], \n",
    "                           bins=[0, 18, 35, 50, 65, 100], \n",
    "                           labels=['<18 ans', '18-35 ans', '36-50 ans', '51-65 ans', '>65 ans'])\n",
    "\n",
    "# Visualiser la satisfaction par catégorie d'âge et classe\n",
    "fig = px.sunburst(df, path=['Class', 'Age_Category', 'Satisfaction'], \n",
    "                 title='Satisfaction par classe et catégorie d\\'âge',\n",
    "                 color_discrete_sequence=px.colors.qualitative.Pastel)\n",
    "fig.update_layout(height=700, width=700)\n",
    "fig.show()"
   ]
  },
  {
   "cell_type": "markdown",
   "metadata": {},
   "source": [
    "## 8. Exercices pratiques\n",
    "\n",
    "Maintenant, c'est à vous de jouer ! Voici quelques exercices pour pratiquer la visualisation de données avec Plotly."
   ]
  },
  {
   "cell_type": "markdown",
   "metadata": {},
   "source": [
    "### Exercice 1\n",
    "Créez un histogramme montrant la distribution des retards au départ ('Departure Delay in Minutes'). Utilisez un binning approprié et ajoutez un titre et des labels d'axes."
   ]
  },
  {
   "cell_type": "code",
   "execution_count": 17,
   "metadata": {},
   "outputs": [],
   "source": [
    "# Votre code ici\n"
   ]
  },
  {
   "cell_type": "markdown",
   "metadata": {},
   "source": [
    "### Exercice 2\n",
    "Créez un graphique à barres montrant le nombre de passagers par type de client ('Customer Type') et par genre ('Gender'). Utilisez la couleur pour distinguer les genres."
   ]
  },
  {
   "cell_type": "code",
   "execution_count": 18,
   "metadata": {},
   "outputs": [],
   "source": [
    "# Votre code ici\n"
   ]
  },
  {
   "cell_type": "markdown",
   "metadata": {},
   "source": [
    "### Exercice 3\n",
    "Créez un graphique en camembert montrant la répartition des classes de voyage ('Class'). Assurez-vous d'afficher les pourcentages et les labels."
   ]
  },
  {
   "cell_type": "code",
   "execution_count": 19,
   "metadata": {},
   "outputs": [],
   "source": [
    "# Votre code ici\n"
   ]
  },
  {
   "cell_type": "markdown",
   "metadata": {},
   "source": [
    "## Conclusion\n",
    "\n",
    "Dans ce notebook, nous avons découvert les bases de la visualisation de données avec Plotly Express. Nous avons appris à :\n",
    "\n",
    "- Comprendre l'importance de la visualisation dans l'analyse de données\n",
    "- Créer des graphiques de base (barres, histogrammes, camemberts, boîtes à moustaches)\n",
    "- Personnaliser les graphiques pour les rendre plus informatifs\n",
    "- Combiner plusieurs graphiques dans un tableau de bord simple\n",
    "- Analyser visuellement les facteurs influençant la satisfaction des passagers\n",
    "\n",
    "Ces compétences sont essentielles pour explorer et comprendre les données avant de construire des modèles de machine learning. Les visualisations nous aident à identifier des tendances, des relations et des anomalies qui peuvent guider notre approche de modélisation."
   ]
  },
  {
   "cell_type": "markdown",
   "metadata": {},
   "source": []
  }
 ],
 "metadata": {
  "kernelspec": {
   "display_name": "bahut_ml",
   "language": "python",
   "name": "python3"
  },
  "language_info": {
   "codemirror_mode": {
    "name": "ipython",
    "version": 3
   },
   "file_extension": ".py",
   "mimetype": "text/x-python",
   "name": "python",
   "nbconvert_exporter": "python",
   "pygments_lexer": "ipython3",
   "version": "3.13.2"
  }
 },
 "nbformat": 4,
 "nbformat_minor": 4
}
